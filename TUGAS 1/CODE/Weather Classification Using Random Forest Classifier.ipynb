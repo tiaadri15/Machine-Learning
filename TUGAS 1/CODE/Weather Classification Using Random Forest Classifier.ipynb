{
 "cells": [
  {
   "cell_type": "markdown",
   "id": "84faaa66-c259-4c94-aa0d-b53272f2bcb8",
   "metadata": {},
   "source": [
    "# Tugas 1 Machine Learning\n",
    "\n",
    "### Nama : Adriati Manuk Allo\n",
    "### NIM  : 2209105018"
   ]
  },
  {
   "cell_type": "markdown",
   "id": "f52500d2-b7c7-4a52-844e-9997616b60c6",
   "metadata": {},
   "source": [
    "## **DAFTAR ISI**\n",
    "- [DATASET](#0)\n",
    "  - [0.1 Import Library](#0-1)\n",
    "  - [0.2 Membaca dataset dari file csv](#0-2)\n",
    "  - [0.3 Memeriksa jumlah kolom dan baris dalam dataset](#0-3)\n",
    "- [DATA CLEANING](#1)\n",
    "  - [1.1 Memeriksa jumlah missing value dalam masing-masing kolom](#1-1)\n",
    "  - [1.2 Memeriksa tipe data di setiap kolom dan jumlah baris di setiap kolom](#1-2)\n",
    "  - [1.3 Memeriksa nilai duplikasi di setiap kolom](#1-3)\n",
    "  - [1.4 Memeriksa jumlah outlier dimasing-masing kolom bertipe numerik](#1-4)\n",
    "  - [1.5 Menangani outlier pada kolom numerik](#1-5)\n",
    "- [FEATURE ENGINEERING](#2)\n",
    "  - [2.1 Konversi tipe data kategorigal ke numerik dengan One Hot Encoding](#2-1)\n",
    "- [DATA TRANSFORMATION](#3)\n",
    "  - [3.1 Normalisasi fitur numerik](#3-1)\n",
    "- [MODELING](#4)\n",
    "  - [4.1 Split Data](#4-1)\n",
    "  - [4.2 Membangun model random forest](#4-2)\n",
    "  - [4.3 Evaluasi model random forest](#4-3)\n",
    "  - [4.4 Visualisasi Hasil](#4-4)"
   ]
  },
  {
   "cell_type": "markdown",
   "id": "c8270493-9f27-491d-bafb-30a03807dcd7",
   "metadata": {},
   "source": [
    "<a name=\"0\"></a>\n",
    "## **DATASET**\n",
    "\n",
    "<blockquote> \n",
    "\n",
    "<br>**Deskripsi**</br>\n",
    "Dataset ini dibuat secara sintetis untuk meniru data cuaca untuk tugas klasifikasi. Kumpulan data ini mencakup berbagai fitur terkait cuaca dan mengkategorikan cuaca menjadi empat jenis: Rainy (hujan), Sunny (cerah), Cloudy (berawan), and Snowy (bersalju). Dataset ini dapat diakses melalui link berikut __[Weather Classification Dataset](https://www.kaggle.com/datasets/nikhil7280/weather-type-classification)__.\n",
    "\n",
    "<br>**Variabel**</br>\n",
    "- *Temperature* (numerik): Suhu dalam derajat Celsius, mulai dari dingin ekstrem hingga panas ekstrem.\n",
    "- *Humidity* (numerik): Persentase kelembaban, termasuk nilai di atas 100% untuk memperkenalkan outlier.\n",
    "- *Wind Speed* (numerik): Kecepatan angin dalam kilometer per jam, dengan rentang termasuk nilai yang sangat tinggi.\n",
    "- *Precipitation* (%) (numerik): Persentase curah hujan, termasuk nilai outlier.\n",
    "- *Cloud Cover* (kategori): Deskripsi tutupan awan.\n",
    "- *Atmospheric Pressure* (numerik): Tekanan atmosfer dalam hPa, yang mencakup rentang yang luas.\n",
    "- *UV Index* (numerik): Indeks UV, yang menunjukkan kekuatan radiasi ultraviolet.\n",
    "- *Season* (kategoris): Musim saat data direkam.\n",
    "- *Visibility* (km) (numerik): Jarak pandang dalam kilometer, termasuk nilai yang sangat rendah atau sangat tinggi.\n",
    "- *Location* (ketegori): Jenis lokasi tempat data direkam.\n",
    "- *Weather Type* (ketegori): Variabel target untuk klasifikasi, yang menunjukkan jenis cuaca.\n",
    "\n",
    "</blockquote>"
   ]
  },
  {
   "cell_type": "markdown",
   "id": "739c38e9-ec51-4edb-a5f2-264eda14d4b2",
   "metadata": {},
   "source": [
    ">"
   ]
  },
  {
   "cell_type": "markdown",
   "id": "bc654e41-7801-4d81-8777-b8df2d1ec641",
   "metadata": {},
   "source": [
    "<a name=\"0-1\"></a>\n",
    "## Import Library\n",
    "\n",
    "<blockquote> Library Python yang digunakan antara lain: \n",
    "    \n",
    "- Pandas\n",
    "digunakan untuk memproses dan menganalisis data dalam bentuk tabel (DataFrame), seperti membaca file, manipulasi kolom/baris, dan cleaning data.\n",
    "- Matplotlib\n",
    "digunakan untuk membuat visualisasi data seperti grafik atau plot yang sederhana. Biasanya dipakai untuk eksplorasi data secara visual.\n",
    "- Seaborn\n",
    "merupakan library visualisasi berbasis Matplotlib yang menyediakan tampilan grafik yang lebih informatif dan estetis, sering digunakan untuk plot statistik seperti heatmap dan boxplot.\n",
    "- OrdinalEncoder (dari sklearn.preprocessing)\n",
    "digunakan untuk mengubah fitur kategorikal menjadi nilai numerik berdasarkan urutan. Cocok untuk fitur dengan urutan logis (ordinal).\n",
    "- MinMaxScaler (dari sklearn.preprocessing)\n",
    "digunakan untuk melakukan normalisasi fitur numerik ke dalam rentang 0 hingga 1 agar skala antar fitur sebanding.\n",
    "- RandomForestClassifier (dari sklearn.ensemble)\n",
    "digunakan untuk membangun model klasifikasi berbasis algoritma Random Forest, yaitu gabungan beberapa decision tree untuk meningkatkan akurasi.\n",
    "- accuracy_score, confusion_matrix, precision_score, recall_score, f1_score, ConfusionMatrixDisplay (dari sklearn.metrics)\n",
    "digunakan untuk mengevaluasi performa model klasifikasi dengan berbagai metrik evaluasi seperti akurasi, presisi, recall, dan f1-score, serta menampilkan confusion matrix.\n",
    "- train_test_split, RandomizedSearchCV (dari sklearn.model_selection)\n",
    "`train_test_split` digunakan untuk membagi dataset menjadi data latih dan data uji, sedangkan `RandomizedSearchCV` digunakan untuk melakukan hyperparameter tuning pada model.\n",
    "- randint (dari scipy.stats)\n",
    "digunakan untuk menghasilkan nilai integer acak, biasanya dipakai saat menentukan ruang pencarian (search space) untuk hyperparameter tuning.\n",
    "</blockquote>"
   ]
  },
  {
   "cell_type": "code",
   "execution_count": null,
   "id": "eebd8839-3280-40c7-aea1-7f2ed9caf848",
   "metadata": {},
   "outputs": [],
   "source": [
    "# Data Preprocessing\n",
    "import pandas as pd\n",
    "import matplotlib.pyplot as plt\n",
    "import seaborn as sns\n",
    "import matplotlib.pyplot as plt\n",
    "\n",
    "from sklearn.preprocessing import OrdinalEncoder\n",
    "from sklearn.preprocessing import StandardScaler\n",
    "from scipy.stats import zscore\n",
    "\n",
    "# Modelling\n",
    "from sklearn.ensemble import RandomForestClassifier\n",
    "from sklearn.metrics import accuracy_score, confusion_matrix, precision_score, recall_score, f1_score, ConfusionMatrixDisplay\n",
    "from sklearn.model_selection import RandomizedSearchCV, train_test_split\n",
    "from scipy.stats import randint"
   ]
  },
  {
   "cell_type": "markdown",
   "id": "b4ca12f4-af98-486c-987c-cbf989330fe2",
   "metadata": {},
   "source": [
    "<a name=\"0-2\"></a>\n",
    "### Membaca dataset dari file csv"
   ]
  },
  {
   "cell_type": "code",
   "execution_count": null,
   "id": "d487bfba-4d2d-4263-ad22-6ee1e8359ab2",
   "metadata": {},
   "outputs": [],
   "source": [
    "### read dataset\n",
    "df_weather = pd.read_csv('weather_classification_data.csv')\n",
    "df_weather.head()"
   ]
  },
  {
   "cell_type": "markdown",
   "id": "2b386f6c-e40c-4f6b-91cc-3f18c68442dc",
   "metadata": {},
   "source": [
    "<a name=\"0-3\"></a>\n",
    "### Memeriksa jumlah kolom dan baris dalam dataset"
   ]
  },
  {
   "cell_type": "code",
   "execution_count": null,
   "id": "ede3c6a5-7b9f-4e25-ad14-1eb9422d324b",
   "metadata": {},
   "outputs": [],
   "source": [
    "df_weather.shape"
   ]
  },
  {
   "cell_type": "markdown",
   "id": "f90268fb-0c4b-402c-acd2-71b86530fd6c",
   "metadata": {},
   "source": [
    "<a name=\"1\"></a>\n",
    "## **DATA CLEANING**"
   ]
  },
  {
   "cell_type": "markdown",
   "id": "c150a936-4f19-444f-935b-817daaf16d45",
   "metadata": {},
   "source": [
    "<a name=\"1-1\"></a>\n",
    "### Memeriksa jumlah missing value dalam masing-masing kolom"
   ]
  },
  {
   "cell_type": "code",
   "execution_count": null,
   "id": "50f0f9af-2b87-432e-ba2c-0fb0e38ae1fe",
   "metadata": {},
   "outputs": [],
   "source": [
    "df_weather.isnull().sum()"
   ]
  },
  {
   "cell_type": "markdown",
   "id": "d3b72474-2001-4df8-b531-dda61fe35ef0",
   "metadata": {},
   "source": [
    "<a name=\"1-2\"></a>\n",
    "### Memeriksa tipe data di setiap kolom dan jumlah baris di setiap kolom"
   ]
  },
  {
   "cell_type": "code",
   "execution_count": null,
   "id": "49b99c7e-bb55-4ae7-9ffe-eb3f312af2ba",
   "metadata": {},
   "outputs": [],
   "source": [
    "df_weather.info()"
   ]
  },
  {
   "cell_type": "markdown",
   "id": "ee9fedf5-bd64-4dd7-9fb6-8a8ef7f67a5e",
   "metadata": {},
   "source": [
    "<a name=\"1-3\"></a>\n",
    "### Memeriksa nilai duplikasi di setiap kolom"
   ]
  },
  {
   "cell_type": "code",
   "execution_count": null,
   "id": "2fba39da-8e41-4a24-aed6-42e31ad9a9a7",
   "metadata": {},
   "outputs": [],
   "source": [
    "df_weather.duplicated().sum()"
   ]
  },
  {
   "cell_type": "markdown",
   "id": "3e80f031-9133-4c3e-a9e3-139713257a28",
   "metadata": {},
   "source": [
    "<a name=\"1-4\"></a>\n",
    "### Memeriksa jumlah outlier dimasing-masing kolom bertipe numerik"
   ]
  },
  {
   "cell_type": "code",
   "execution_count": null,
   "id": "452bd6bc-4e92-4349-9f5a-416b1ac4fcea",
   "metadata": {},
   "outputs": [],
   "source": [
    "df_weather.describe()"
   ]
  },
  {
   "cell_type": "code",
   "execution_count": null,
   "id": "a6520454-0b32-411b-a4c2-ce01b6c7a240",
   "metadata": {},
   "outputs": [],
   "source": [
    "# ====== 1. Outlier Berdasarkan Z-Score ======\n",
    "# Daftar kolom numerik yang akan dicek\n",
    "columns_to_check = ['Temperature', 'Wind Speed', \n",
    "                    'Atmospheric Pressure', 'Visibility (km)', 'UV Index']\n",
    "\n",
    "# Simpan jumlah outlier berdasarkan Z-Score\n",
    "outliers_zscore = {}\n",
    "\n",
    "for col in columns_to_check:\n",
    "    z_scores = zscore(df_weather[col])\n",
    "    outliers = df_weather[abs(z_scores) > 3]\n",
    "    outliers_zscore[col] = outliers.shape[0]\n",
    "\n",
    "print(\"Outlier Berdasarkan Z-Score (Sebelum Diubah):\")\n",
    "for col, count in outliers_zscore.items():\n",
    "    print(f\"- {col}: {count} outlier\")"
   ]
  },
  {
   "cell_type": "code",
   "execution_count": null,
   "id": "5754ea05-81cd-4604-97ba-a12e9fdd28a9",
   "metadata": {},
   "outputs": [],
   "source": [
    "# Set ukuran plot\n",
    "plt.figure(figsize=(12, 6))\n",
    "\n",
    "# Buat boxplot untuk masing-masing kolom numerik\n",
    "sns.boxplot(data=df_weather[columns_to_check], orient=\"h\", palette=\"Set2\")\n",
    "\n",
    "# Tambahkan judul dan label\n",
    "plt.title(\"Outlier Berdasarkan Z-Score (Sebelum Penanganan Outliers)\")\n",
    "plt.xlabel(\"Nilai\")\n",
    "plt.ylabel(\"Fitur\")\n",
    "\n",
    "plt.tight_layout()\n",
    "plt.show()"
   ]
  },
  {
   "cell_type": "code",
   "execution_count": null,
   "id": "81d547c5-ff52-4b2d-b4c8-852566d8fe9a",
   "metadata": {},
   "outputs": [],
   "source": [
    "# ====== 2. Outlier Berdasarkan Batas Logis ======\n",
    "# Humidity dan Precipitation seharusnya tidak > 100\n",
    "columns_to_check_2 = ['Humidity', 'Precipitation (%)']\n",
    "# Membuat dictionary untuk menyimpan jumlah outlier\n",
    "logical_outliers = {}\n",
    "\n",
    "# Mengiterasi setiap kolom dalam columns_to_check untuk mengecek outlier\n",
    "for column in columns_to_check_2:\n",
    "    logical_outliers[f'{column} > 100'] = df_weather[df_weather[column] > 100].shape[0]\n",
    "\n",
    "# Menampilkan jumlah outlier berdasarkan batas logis\n",
    "print(\"\\nOutlier Berdasarkan Batas Logis:\")\n",
    "for column, outlier_count in logical_outliers.items():\n",
    "    print(f\"- {column}: {outlier_count} outlier\")"
   ]
  },
  {
   "cell_type": "code",
   "execution_count": null,
   "id": "49b7b05c-5442-4860-aeac-8313e3ae8433",
   "metadata": {},
   "outputs": [],
   "source": [
    "# Set ukuran plot\n",
    "plt.figure(figsize=(12, 6))\n",
    "\n",
    "# Buat boxplot normal\n",
    "sns.boxplot(data=df_weather[columns_to_check_2], orient=\"h\", palette=\"Set2\", showfliers=True)\n",
    "\n",
    "# Tambahkan titik merah untuk nilai > 100\n",
    "for i, col in enumerate(columns_to_check_2):\n",
    "    outliers = df_weather[df_weather[columns_to_check_2] > 100][col]\n",
    "    plt.scatter(outliers, [i]*len(outliers), color='grey', label='Outlier > 100' if i == 0 else \"\", zorder=10)\n",
    "\n",
    "# Label dan title\n",
    "plt.title(\"Visualisasi Outlier Berdasarkan Batas Logis (>100)\")\n",
    "plt.xlabel(\"Nilai\")\n",
    "plt.ylabel(\"Fitur\")\n",
    "plt.legend()\n",
    "plt.tight_layout()\n",
    "plt.show()"
   ]
  },
  {
   "cell_type": "markdown",
   "id": "243f5b9f-4378-4270-9237-ed0cd3a57bab",
   "metadata": {},
   "source": [
    "<blockquote> Berdasarkan hasil analisis, outlier pada kolom humidity dan precipitation perlu ditangani karena nilainya tidak masuk akal, seperti melebihi 100%. Sementara itu, meskipun outlier pada kolom temperature, wind speed, atmospheric pressure, dan visibility masih mungkin terjadi secara alami, saya memutuskan untuk menangani semua outlier demi menjaga kualitas data dan menghindari gangguan pada hasil model.\n",
    "</blockquote> "
   ]
  },
  {
   "cell_type": "markdown",
   "id": "154e407e-686d-40bb-b5a8-2b294b6a6e86",
   "metadata": {},
   "source": [
    "<a name=\"1-5\"></a>\n",
    "### Menangani outlier pada kolom numerik"
   ]
  },
  {
   "cell_type": "code",
   "execution_count": null,
   "id": "11e267e0-03ad-4eae-b7e8-6b4be3e42e36",
   "metadata": {},
   "outputs": [],
   "source": [
    "# Salin data asli\n",
    "df_cleaned = df_weather.copy()"
   ]
  },
  {
   "cell_type": "code",
   "execution_count": null,
   "id": "41231711-b11a-4179-b342-77260565564b",
   "metadata": {},
   "outputs": [],
   "source": [
    "### Imputation outliers dengan nilai median pada kolom Temperature, Wind Speed, Atmospheric Pressure', 'Visibility (km)\n",
    "# Loop hingga tidak ada lagi outlier\n",
    "while True:\n",
    "    # Hitung Z-score untuk setiap kolom\n",
    "    z_scores_df = df_cleaned[columns_to_check].apply(zscore)\n",
    "    \n",
    "    # Buat mask: True untuk baris yang tidak mengandung outlier di semua kolom\n",
    "    mask = (z_scores_df.abs() <= 3).all(axis=1)\n",
    "    \n",
    "    # Jika tidak ada baris yang dihapus (sudah bersih), hentikan loop\n",
    "    if mask.sum() == df_cleaned.shape[0]:\n",
    "        break\n",
    "    \n",
    "    # Update dataframe hanya dengan baris yang aman\n",
    "    df_cleaned = df_cleaned[mask]\n",
    "\n",
    "# Cek jumlah outlier akhir\n",
    "print(\"Outlier Berdasarkan Z-Score (Setelah Penghapusan Iteratif):\")\n",
    "for col in columns_to_check:\n",
    "    z_scores = zscore(df_cleaned[col])\n",
    "    count = (abs(z_scores) > 3).sum()\n",
    "    print(f\"- {col}: {count} outlier\")"
   ]
  },
  {
   "cell_type": "code",
   "execution_count": null,
   "id": "81f9c64b-df05-4c12-ac2d-725713efc647",
   "metadata": {},
   "outputs": [],
   "source": [
    "# Visualisasi setelah penanganan\n",
    "plt.figure(figsize=(12, 6))\n",
    "sns.boxplot(data=df_cleaned[columns_to_check], orient=\"h\", palette=\"Set3\")\n",
    "plt.title(\"Box Plot Setelah Penanganan Outlier (Z-Score)\")\n",
    "plt.xlabel(\"Nilai\")\n",
    "plt.ylabel(\"Fitur\")\n",
    "plt.tight_layout()\n",
    "plt.show()"
   ]
  },
  {
   "cell_type": "code",
   "execution_count": null,
   "id": "a6449c1c-dd5b-486f-868c-ee961b0825b3",
   "metadata": {},
   "outputs": [],
   "source": [
    "### Drop outliers pada kolom humidity dan precipitation\n",
    "df_cleaned = df_cleaned[(df_cleaned['Humidity'] <= 100) & (df_cleaned['Precipitation (%)'] <= 100)]\n",
    "\n",
    "# Humidity dan Precipitation seharusnya tidak > 100\n",
    "columns_to_check_2 = ['Humidity', 'Precipitation (%)']\n",
    "\n",
    "# Membuat dictionary untuk menyimpan jumlah outlier\n",
    "logical_outliers = {}\n",
    "\n",
    "# Mengiterasi setiap kolom dalam columns_to_check untuk mengecek outlier\n",
    "for column in columns_to_check_2:\n",
    "    logical_outliers[f'{column} > 100'] = df_cleaned[df_cleaned[column] > 100].shape[0]\n",
    "\n",
    "# Menampilkan jumlah outlier berdasarkan batas logis\n",
    "print(\"\\nOutlier Berdasarkan Batas Logis:\")\n",
    "for column, outlier_count in logical_outliers.items():\n",
    "    print(f\"- {column}: {outlier_count} outlier\")"
   ]
  },
  {
   "cell_type": "code",
   "execution_count": null,
   "id": "e2cc0c0a-82d1-4a34-8f10-355f52f8e0a2",
   "metadata": {},
   "outputs": [],
   "source": [
    "# Set ukuran plot\n",
    "plt.figure(figsize=(12, 6))\n",
    "\n",
    "# Buat boxplot normal\n",
    "sns.boxplot(data=df_cleaned[columns_to_check_2], orient=\"h\", palette=\"Set2\", showfliers=True)\n",
    "\n",
    "# Tambahkan titik merah untuk nilai > 100\n",
    "for i, col in enumerate(columns_to_check_2):\n",
    "    outliers = df_cleaned[df_cleaned[col] > 100][col]  # Perbaikan di sini\n",
    "    plt.scatter(outliers, [i]*len(outliers), color='grey', label='Outlier > 100' if i == 0 else \"\", zorder=10)\n",
    "\n",
    "# Label dan title\n",
    "plt.title(\"Visualisasi Outlier Berdasarkan Batas Logis (>100)\")\n",
    "plt.xlabel(\"Nilai\")\n",
    "plt.ylabel(\"Fitur\")\n",
    "plt.legend()\n",
    "plt.tight_layout()\n",
    "plt.show()"
   ]
  },
  {
   "cell_type": "markdown",
   "id": "ba1c4872-6335-402b-b5a3-e12318137847",
   "metadata": {},
   "source": [
    "<blockquote>Untuk menangani outliers pada kolom temperature, humidity, wind speed, precipitation, Atmospheric Pressure', 'Visibility (km), dan UV Index dilakukan penghapusan pada baris yang memiliki outliers. Pada kolom humidity dan precipitation, outlier di cek menggunakan IQT, sedangkan  kolom temperature, wind speed, atmospheric pressure', 'visibility, dan UV Index menggunakan Z-Score. Hal ini dilakukan karena jumlah outliers yang ada pada  kolom-kolom ini sedikit, sehingga ketika di hapus tidak memberikan pengaruh terhadap akurasi model.</blockquote>"
   ]
  },
  {
   "cell_type": "code",
   "execution_count": null,
   "id": "eb8d1edd-4317-49cb-9a8f-8d29f34d57ae",
   "metadata": {},
   "outputs": [],
   "source": [
    "df_cleaned.describe()"
   ]
  },
  {
   "cell_type": "markdown",
   "id": "0bb4f246-e597-40de-af40-51674076c406",
   "metadata": {},
   "source": [
    "<a name=\"2\"></a>\n",
    "## **FEATURE ENGINEERING**"
   ]
  },
  {
   "cell_type": "markdown",
   "id": "8167b336-c263-4781-a4aa-8d59130c262c",
   "metadata": {},
   "source": [
    "<a name=\"2-1\"></a>\n",
    "### Konversi tipe data kategorigal ke numerik dengan One Hot Encoding"
   ]
  },
  {
   "cell_type": "code",
   "execution_count": null,
   "id": "904bbc19-cb6c-4548-8fd0-d436eaaae82e",
   "metadata": {},
   "outputs": [],
   "source": [
    "df_cleaned['Cloud Cover'].unique()"
   ]
  },
  {
   "cell_type": "code",
   "execution_count": null,
   "id": "2f4379da-d211-4feb-af75-206a2d9016b5",
   "metadata": {},
   "outputs": [],
   "source": [
    "df_cleaned['Season'].unique()"
   ]
  },
  {
   "cell_type": "code",
   "execution_count": null,
   "id": "4e57b750-e2a6-4667-b24f-884c4266e44c",
   "metadata": {},
   "outputs": [],
   "source": [
    "df_cleaned['Location'].unique()"
   ]
  },
  {
   "cell_type": "code",
   "execution_count": null,
   "id": "67b3bed0-e0be-4281-a15c-6b355118b5f7",
   "metadata": {},
   "outputs": [],
   "source": [
    "eo = OrdinalEncoder()\n",
    "df_cleaned[['Cloud Cover']] = eo.fit_transform(df_cleaned[['Cloud Cover']])\n",
    "df_cleaned[['Season']] = eo.fit_transform(df_cleaned[['Season']])\n",
    "df_cleaned[['Location']] = eo.fit_transform(df_cleaned[['Location']])\n",
    "df_cleaned"
   ]
  },
  {
   "cell_type": "markdown",
   "id": "536522cf-a2ab-4f3a-8619-a8c58a0fa487",
   "metadata": {},
   "source": [
    "<a name=\"3\"></a>\n",
    "## **DATA TRANSFORMATION**"
   ]
  },
  {
   "cell_type": "markdown",
   "id": "958fe881-0238-45d0-ad67-86ee6fa67dcf",
   "metadata": {},
   "source": [
    "<a name=\"3-1\"></a>\n",
    "### Normalisasi fitur numerik"
   ]
  },
  {
   "cell_type": "code",
   "execution_count": null,
   "id": "a9c6eb0e-5eca-474b-b0e9-b809a03e5a87",
   "metadata": {},
   "outputs": [],
   "source": [
    "numeric_columns = ['Temperature', 'Humidity', 'Wind Speed', \n",
    "                     'Precipitation (%)', 'Atmospheric Pressure', \n",
    "                     'UV Index', 'Visibility (km)']\n",
    "sc = StandardScaler()\n",
    "normalized_data = sc.fit_transform(df_cleaned[numeric_columns])\n",
    "\n",
    "df_cleaned_normalized = df_cleaned.copy()\n",
    "df_cleaned_normalized[numeric_columns] = normalized_data\n",
    "df_cleaned_normalized.head()"
   ]
  },
  {
   "cell_type": "markdown",
   "id": "61ba4c5d-1233-4814-926d-933097c0d368",
   "metadata": {},
   "source": [
    "<blockquote>Normalisasi dilakukan pada kolom temperature, humidity, wind speed, dan precipitation agar tidak ada fitur yang mendominasi karena skala yang besar. Selain itu, karena sebelumnya telah dilakukan penghapusan outlier, maka penggunaan MinMaxScaler dirasa lebih baik dibandingkan StandardScaler</blockquote>"
   ]
  },
  {
   "cell_type": "markdown",
   "id": "357483be-4aa6-4a61-8708-e9cb5a6e7ce5",
   "metadata": {},
   "source": [
    "<a name=\"4\"></a>\n",
    "## **MODELING**\n",
    "\n",
    "<blockquote> \n",
    "Algoritma Random Forest dipilih untuk tugas klasifikasi cuaca karena kemampuannya menangani data numerik dan kategoris, serta cocok untuk klasifikasi multikelas seperti Rainy, Sunny, Cloudy, dan Snowy. Random Forest bekerja dengan membangun banyak pohon keputusan dari subset data dan fitur secara acak, lalu menggabungkan hasil prediksinya melalui voting mayoritas.\n",
    "\n",
    "<br>Metode ini unggul karena:</br>\n",
    "- Robust terhadap outlier dan noise, yang penting karena dataset mengandung nilai ekstrem.\n",
    "- Tidak mudah overfitting, berkat pendekatan ensemble-nya.\n",
    "- Dapat memberikan feature importance, membantu memahami fitur paling berpengaruh terhadap prediksi cuaca.\n",
    "</blockquote> \n"
   ]
  },
  {
   "cell_type": "markdown",
   "id": "c2cbbdaa-6516-47cf-81f7-325ba1c16935",
   "metadata": {},
   "source": [
    "<a name=\"4-1\"></a>\n",
    "### Split Data"
   ]
  },
  {
   "cell_type": "code",
   "execution_count": null,
   "id": "2ff4b9bb-b646-4f84-b646-dde4078cbbb7",
   "metadata": {},
   "outputs": [],
   "source": [
    "### Split data menjadi features (X) dan target (y)\n",
    "X = df_cleaned_normalized.drop('Weather Type', axis=1)\n",
    "y = df_cleaned_normalized['Weather Type']\n",
    "\n",
    "### Split data menjadi data training dan data testing (80:20)\n",
    "X_train, X_test, y_train, y_test = train_test_split(X, y, test_size=0.2)"
   ]
  },
  {
   "cell_type": "markdown",
   "id": "7181db52-c227-4c35-ba69-0f5a9f63bce2",
   "metadata": {},
   "source": [
    "<a name=\"4-2\"></a>\n",
    "### Membangun model random forest"
   ]
  },
  {
   "cell_type": "code",
   "execution_count": null,
   "id": "e1989d77-6291-4f59-8254-c1a7c54d169f",
   "metadata": {},
   "outputs": [],
   "source": [
    "param_dist = {'n_estimators': randint(50,500),\n",
    "              'max_depth': randint(1,20)}\n",
    "\n",
    "rf = RandomForestClassifier()\n",
    "rand_search = RandomizedSearchCV(rf, \n",
    "                                 param_distributions = param_dist, \n",
    "                                 n_iter=5, \n",
    "                                 cv=5)\n",
    "rand_search.fit(X_train, y_train)"
   ]
  },
  {
   "cell_type": "code",
   "execution_count": null,
   "id": "c1fac432-862d-4c46-913e-28630d013827",
   "metadata": {},
   "outputs": [],
   "source": [
    "# Create a variable for the best model\n",
    "best_rf = rand_search.best_estimator_\n",
    "\n",
    "# Print the best hyperparameters\n",
    "print('Best hyperparameters:',  rand_search.best_params_)"
   ]
  },
  {
   "cell_type": "markdown",
   "id": "704a8d31-3b90-4a63-9f6f-0302f2333f91",
   "metadata": {},
   "source": [
    "<a name=\"4-3\"></a>\n",
    "### Evaluasi model random forest"
   ]
  },
  {
   "cell_type": "code",
   "execution_count": null,
   "id": "8fa12eb1-288f-4430-bac0-6abafb05f295",
   "metadata": {},
   "outputs": [],
   "source": [
    "y_pred = best_rf.predict(X_test)\n",
    "cm = confusion_matrix(y_test, y_pred)\n",
    "accuracy = accuracy_score(y_test, y_pred)\n",
    "precision = precision_score(y_test, y_pred, average='weighted')\n",
    "recall = recall_score(y_test, y_pred, average='weighted')\n",
    "f1 = f1_score(y_test, y_pred, average='weighted')\n",
    "\n",
    "print (\"Accuracy;\", accuracy)\n",
    "print (\"Precision;\", precision)\n",
    "print (\"Recall;\", recall )\n",
    "print (\"F1 Score;\", f1)"
   ]
  },
  {
   "cell_type": "markdown",
   "id": "608b7a53-21c7-43ca-942b-e8fc2b1fc283",
   "metadata": {},
   "source": [
    "<a name=\"4-4\"></a>\n",
    "### Visualisasi Hasil "
   ]
  },
  {
   "cell_type": "code",
   "execution_count": null,
   "id": "10e760cc-2540-4ff7-968a-f34e3de2e905",
   "metadata": {},
   "outputs": [],
   "source": [
    "ConfusionMatrixDisplay(confusion_matrix=cm).plot();"
   ]
  }
 ],
 "metadata": {
  "kernelspec": {
   "display_name": "Python 3 (ipykernel)",
   "language": "python",
   "name": "python3"
  },
  "language_info": {
   "codemirror_mode": {
    "name": "ipython",
    "version": 3
   },
   "file_extension": ".py",
   "mimetype": "text/x-python",
   "name": "python",
   "nbconvert_exporter": "python",
   "pygments_lexer": "ipython3",
   "version": "3.10.7"
  }
 },
 "nbformat": 4,
 "nbformat_minor": 5
}
