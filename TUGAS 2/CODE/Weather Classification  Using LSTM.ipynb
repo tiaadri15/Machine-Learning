{
 "cells": [
  {
   "cell_type": "markdown",
   "id": "84faaa66-c259-4c94-aa0d-b53272f2bcb8",
   "metadata": {},
   "source": [
    "# Tugas 2 Machine Learning\n",
    "\n",
    "### Nama : Adriati Manuk Allo\n",
    "### NIM  : 2209105018"
   ]
  },
  {
   "cell_type": "markdown",
   "id": "f52500d2-b7c7-4a52-844e-9997616b60c6",
   "metadata": {},
   "source": [
    "## **DAFTAR ISI**\n",
    "- [DATASET](#0)\n",
    "  - [0.1 Import Library](#0-1)\n",
    "  - [0.2 Membaca dataset dari file csv](#0-2)\n",
    "  - [0.3 Memeriksa jumlah kolom dan baris dalam dataset](#0-3)\n",
    "- [DATA CLEANING](#1)\n",
    "  - [1.1 Memeriksa jumlah missing value dalam masing-masing kolom](#1-1)\n",
    "  - [1.2 Memeriksa tipe data di setiap kolom dan jumlah baris di setiap kolom](#1-2)\n",
    "  - [1.3 Memeriksa nilai duplikasi di setiap kolom](#1-3)\n",
    "  - [1.4 Memeriksa jumlah outlier dimasing-masing kolom bertipe numerik](#1-4)\n",
    "  - [1.5 Menangani outlier pada kolom numerik](#1-5)\n",
    "- [FEATURE ENGINEERING](#2)\n",
    "  - [2.1 Konversi tipe data kategorigal ke numerik dengan Ordinal Encoding](#2-1)\n",
    "- [DATA TRANSFORMATION](#3)\n",
    "  - [3.1 Normalisasi fitur numerik](#3-1)\n",
    "- [MODELING](#4)\n",
    "  - [4.1 Split Data](#4-1)\n",
    "  - [4.2 Membangun model random forest](#4-2)\n",
    "  - [4.3 Evaluasi model random forest](#4-3)\n",
    "  - [4.4 Visualisasi Hasil](#4-4)"
   ]
  },
  {
   "cell_type": "markdown",
   "id": "c8270493-9f27-491d-bafb-30a03807dcd7",
   "metadata": {},
   "source": [
    "<a name=\"0\"></a>\n",
    "## **DATASET**\n",
    "\n",
    "<blockquote> \n",
    "\n",
    "<br>**Deskripsi**</br>\n",
    "Dataset ini dibuat secara sintetis untuk meniru data cuaca untuk tugas klasifikasi. Kumpulan data ini mencakup berbagai fitur terkait cuaca dan mengkategorikan cuaca menjadi empat jenis: Rainy (hujan), Sunny (cerah), Cloudy (berawan), and Snowy (bersalju). Dataset ini dapat diakses melalui link berikut __[Weather Classification Dataset](https://www.kaggle.com/datasets/nikhil7280/weather-type-classification)__.\n",
    "\n",
    "<br>**Variabel**</br>\n",
    "- *Temperature* (numerik): Suhu dalam derajat Celsius, mulai dari dingin ekstrem hingga panas ekstrem.\n",
    "- *Humidity* (numerik): Persentase kelembaban, termasuk nilai di atas 100% untuk memperkenalkan outlier.\n",
    "- *Wind Speed* (numerik): Kecepatan angin dalam kilometer per jam, dengan rentang termasuk nilai yang sangat tinggi.\n",
    "- *Precipitation* (%) (numerik): Persentase curah hujan, termasuk nilai outlier.\n",
    "- *Cloud Cover* (kategori): Deskripsi tutupan awan.\n",
    "- *Atmospheric Pressure* (numerik): Tekanan atmosfer dalam hPa, yang mencakup rentang yang luas.\n",
    "- *UV Index* (numerik): Indeks UV, yang menunjukkan kekuatan radiasi ultraviolet.\n",
    "- *Season* (kategoris): Musim saat data direkam.\n",
    "- *Visibility* (km) (numerik): Jarak pandang dalam kilometer, termasuk nilai yang sangat rendah atau sangat tinggi.\n",
    "- *Location* (ketegori): Jenis lokasi tempat data direkam.\n",
    "- *Weather Type* (ketegori): Variabel target untuk klasifikasi, yang menunjukkan jenis cuaca.\n",
    "\n",
    "</blockquote>"
   ]
  },
  {
   "cell_type": "markdown",
   "id": "739c38e9-ec51-4edb-a5f2-264eda14d4b2",
   "metadata": {},
   "source": [
    ">"
   ]
  },
  {
   "cell_type": "markdown",
   "id": "bc654e41-7801-4d81-8777-b8df2d1ec641",
   "metadata": {},
   "source": [
    "<a name=\"0-1\"></a>\n",
    "## Import Library\n",
    "\n",
    "<blockquote> Library Python yang digunakan antara lain: \n",
    "    \n",
    "- Pandas\n",
    "digunakan untuk memproses dan menganalisis data dalam bentuk tabel (DataFrame), seperti membaca file, manipulasi kolom/baris, dan cleaning data.\n",
    "- Matplotlib\n",
    "digunakan untuk membuat visualisasi data seperti grafik atau plot yang sederhana. Biasanya dipakai untuk eksplorasi data secara visual.\n",
    "- Seaborn\n",
    "merupakan library visualisasi berbasis Matplotlib yang menyediakan tampilan grafik yang lebih informatif dan estetis, sering digunakan untuk plot statistik seperti heatmap dan boxplot.\n",
    "- OrdinalEncoder (dari sklearn.preprocessing)\n",
    "digunakan untuk mengubah fitur kategorikal menjadi nilai numerik berdasarkan urutan. Cocok untuk fitur dengan urutan logis (ordinal).\n",
    "- MinMaxScaler (dari sklearn.preprocessing)\n",
    "digunakan untuk melakukan normalisasi fitur numerik ke dalam rentang 0 hingga 1 agar skala antar fitur sebanding.\n",
    "- RandomForestClassifier (dari sklearn.ensemble)\n",
    "digunakan untuk membangun model klasifikasi berbasis algoritma Random Forest, yaitu gabungan beberapa decision tree untuk meningkatkan akurasi.\n",
    "- accuracy_score, confusion_matrix, precision_score, recall_score, f1_score, ConfusionMatrixDisplay (dari sklearn.metrics)\n",
    "digunakan untuk mengevaluasi performa model klasifikasi dengan berbagai metrik evaluasi seperti akurasi, presisi, recall, dan f1-score, serta menampilkan confusion matrix.\n",
    "- train_test_split, RandomizedSearchCV (dari sklearn.model_selection)\n",
    "`train_test_split` digunakan untuk membagi dataset menjadi data latih dan data uji, sedangkan `RandomizedSearchCV` digunakan untuk melakukan hyperparameter tuning pada model.\n",
    "- randint (dari scipy.stats)\n",
    "digunakan untuk menghasilkan nilai integer acak, biasanya dipakai saat menentukan ruang pencarian (search space) untuk hyperparameter tuning.\n",
    "</blockquote>"
   ]
  },
  {
   "cell_type": "code",
   "execution_count": 342,
   "id": "eebd8839-3280-40c7-aea1-7f2ed9caf848",
   "metadata": {},
   "outputs": [],
   "source": [
    "# Data Preprocessing\n",
    "import pandas as pd\n",
    "import matplotlib.pyplot as plt\n",
    "import seaborn as sns\n",
    "import matplotlib.pyplot as plt\n",
    "\n",
    "from sklearn.preprocessing import OrdinalEncoder\n",
    "from sklearn.preprocessing import StandardScaler\n",
    "from scipy.stats import zscore\n",
    "\n",
    "# Modelling\n",
    "import tensorflow as tf\n",
    "import numpy as np\n",
    "\n",
    "from tensorflow.keras import Sequential, callbacks\n",
    "from keras.layers import LSTM, Dense, Dropout\n",
    "from sklearn.model_selection import train_test_split\n",
    "from tensorflow.keras.utils import to_categorical\n",
    "from keras.regularizers import l2\n",
    "from sklearn.metrics import accuracy_score"
   ]
  },
  {
   "cell_type": "markdown",
   "id": "b4ca12f4-af98-486c-987c-cbf989330fe2",
   "metadata": {},
   "source": [
    "<a name=\"0-2\"></a>\n",
    "### Membaca dataset dari file csv"
   ]
  },
  {
   "cell_type": "code",
   "execution_count": 309,
   "id": "d487bfba-4d2d-4263-ad22-6ee1e8359ab2",
   "metadata": {},
   "outputs": [
    {
     "data": {
      "text/html": [
       "<div>\n",
       "<style scoped>\n",
       "    .dataframe tbody tr th:only-of-type {\n",
       "        vertical-align: middle;\n",
       "    }\n",
       "\n",
       "    .dataframe tbody tr th {\n",
       "        vertical-align: top;\n",
       "    }\n",
       "\n",
       "    .dataframe thead th {\n",
       "        text-align: right;\n",
       "    }\n",
       "</style>\n",
       "<table border=\"1\" class=\"dataframe\">\n",
       "  <thead>\n",
       "    <tr style=\"text-align: right;\">\n",
       "      <th></th>\n",
       "      <th>Temperature</th>\n",
       "      <th>Humidity</th>\n",
       "      <th>Wind Speed</th>\n",
       "      <th>Precipitation (%)</th>\n",
       "      <th>Cloud Cover</th>\n",
       "      <th>Atmospheric Pressure</th>\n",
       "      <th>UV Index</th>\n",
       "      <th>Season</th>\n",
       "      <th>Visibility (km)</th>\n",
       "      <th>Location</th>\n",
       "      <th>Weather Type</th>\n",
       "    </tr>\n",
       "  </thead>\n",
       "  <tbody>\n",
       "    <tr>\n",
       "      <th>0</th>\n",
       "      <td>14.0</td>\n",
       "      <td>73</td>\n",
       "      <td>9.5</td>\n",
       "      <td>82.0</td>\n",
       "      <td>partly cloudy</td>\n",
       "      <td>1010.82</td>\n",
       "      <td>2</td>\n",
       "      <td>Winter</td>\n",
       "      <td>3.5</td>\n",
       "      <td>inland</td>\n",
       "      <td>Rainy</td>\n",
       "    </tr>\n",
       "    <tr>\n",
       "      <th>1</th>\n",
       "      <td>39.0</td>\n",
       "      <td>96</td>\n",
       "      <td>8.5</td>\n",
       "      <td>71.0</td>\n",
       "      <td>partly cloudy</td>\n",
       "      <td>1011.43</td>\n",
       "      <td>7</td>\n",
       "      <td>Spring</td>\n",
       "      <td>10.0</td>\n",
       "      <td>inland</td>\n",
       "      <td>Cloudy</td>\n",
       "    </tr>\n",
       "    <tr>\n",
       "      <th>2</th>\n",
       "      <td>30.0</td>\n",
       "      <td>64</td>\n",
       "      <td>7.0</td>\n",
       "      <td>16.0</td>\n",
       "      <td>clear</td>\n",
       "      <td>1018.72</td>\n",
       "      <td>5</td>\n",
       "      <td>Spring</td>\n",
       "      <td>5.5</td>\n",
       "      <td>mountain</td>\n",
       "      <td>Sunny</td>\n",
       "    </tr>\n",
       "    <tr>\n",
       "      <th>3</th>\n",
       "      <td>38.0</td>\n",
       "      <td>83</td>\n",
       "      <td>1.5</td>\n",
       "      <td>82.0</td>\n",
       "      <td>clear</td>\n",
       "      <td>1026.25</td>\n",
       "      <td>7</td>\n",
       "      <td>Spring</td>\n",
       "      <td>1.0</td>\n",
       "      <td>coastal</td>\n",
       "      <td>Sunny</td>\n",
       "    </tr>\n",
       "    <tr>\n",
       "      <th>4</th>\n",
       "      <td>27.0</td>\n",
       "      <td>74</td>\n",
       "      <td>17.0</td>\n",
       "      <td>66.0</td>\n",
       "      <td>overcast</td>\n",
       "      <td>990.67</td>\n",
       "      <td>1</td>\n",
       "      <td>Winter</td>\n",
       "      <td>2.5</td>\n",
       "      <td>mountain</td>\n",
       "      <td>Rainy</td>\n",
       "    </tr>\n",
       "  </tbody>\n",
       "</table>\n",
       "</div>"
      ],
      "text/plain": [
       "   Temperature  Humidity  Wind Speed  Precipitation (%)    Cloud Cover  \\\n",
       "0         14.0        73         9.5               82.0  partly cloudy   \n",
       "1         39.0        96         8.5               71.0  partly cloudy   \n",
       "2         30.0        64         7.0               16.0          clear   \n",
       "3         38.0        83         1.5               82.0          clear   \n",
       "4         27.0        74        17.0               66.0       overcast   \n",
       "\n",
       "   Atmospheric Pressure  UV Index  Season  Visibility (km)  Location  \\\n",
       "0               1010.82         2  Winter              3.5    inland   \n",
       "1               1011.43         7  Spring             10.0    inland   \n",
       "2               1018.72         5  Spring              5.5  mountain   \n",
       "3               1026.25         7  Spring              1.0   coastal   \n",
       "4                990.67         1  Winter              2.5  mountain   \n",
       "\n",
       "  Weather Type  \n",
       "0        Rainy  \n",
       "1       Cloudy  \n",
       "2        Sunny  \n",
       "3        Sunny  \n",
       "4        Rainy  "
      ]
     },
     "execution_count": 309,
     "metadata": {},
     "output_type": "execute_result"
    }
   ],
   "source": [
    "### read dataset\n",
    "df_weather = pd.read_csv('weather_classification_data.csv')\n",
    "df_weather.head()"
   ]
  },
  {
   "cell_type": "markdown",
   "id": "2b386f6c-e40c-4f6b-91cc-3f18c68442dc",
   "metadata": {},
   "source": [
    "<a name=\"0-3\"></a>\n",
    "### Memeriksa jumlah kolom dan baris dalam dataset"
   ]
  },
  {
   "cell_type": "code",
   "execution_count": 310,
   "id": "ede3c6a5-7b9f-4e25-ad14-1eb9422d324b",
   "metadata": {},
   "outputs": [
    {
     "data": {
      "text/plain": [
       "(13200, 11)"
      ]
     },
     "execution_count": 310,
     "metadata": {},
     "output_type": "execute_result"
    }
   ],
   "source": [
    "df_weather.shape"
   ]
  },
  {
   "cell_type": "markdown",
   "id": "f90268fb-0c4b-402c-acd2-71b86530fd6c",
   "metadata": {},
   "source": [
    "<a name=\"1\"></a>\n",
    "## **DATA CLEANING**"
   ]
  },
  {
   "cell_type": "markdown",
   "id": "c150a936-4f19-444f-935b-817daaf16d45",
   "metadata": {},
   "source": [
    "<a name=\"1-1\"></a>\n",
    "### Memeriksa jumlah missing value dalam masing-masing kolom"
   ]
  },
  {
   "cell_type": "code",
   "execution_count": 311,
   "id": "50f0f9af-2b87-432e-ba2c-0fb0e38ae1fe",
   "metadata": {},
   "outputs": [
    {
     "data": {
      "text/plain": [
       "Temperature             0\n",
       "Humidity                0\n",
       "Wind Speed              0\n",
       "Precipitation (%)       0\n",
       "Cloud Cover             0\n",
       "Atmospheric Pressure    0\n",
       "UV Index                0\n",
       "Season                  0\n",
       "Visibility (km)         0\n",
       "Location                0\n",
       "Weather Type            0\n",
       "dtype: int64"
      ]
     },
     "execution_count": 311,
     "metadata": {},
     "output_type": "execute_result"
    }
   ],
   "source": [
    "df_weather.isnull().sum()"
   ]
  },
  {
   "cell_type": "markdown",
   "id": "d3b72474-2001-4df8-b531-dda61fe35ef0",
   "metadata": {},
   "source": [
    "<a name=\"1-2\"></a>\n",
    "### Memeriksa tipe data di setiap kolom dan jumlah baris di setiap kolom"
   ]
  },
  {
   "cell_type": "code",
   "execution_count": 312,
   "id": "49b99c7e-bb55-4ae7-9ffe-eb3f312af2ba",
   "metadata": {},
   "outputs": [
    {
     "name": "stdout",
     "output_type": "stream",
     "text": [
      "<class 'pandas.core.frame.DataFrame'>\n",
      "RangeIndex: 13200 entries, 0 to 13199\n",
      "Data columns (total 11 columns):\n",
      " #   Column                Non-Null Count  Dtype  \n",
      "---  ------                --------------  -----  \n",
      " 0   Temperature           13200 non-null  float64\n",
      " 1   Humidity              13200 non-null  int64  \n",
      " 2   Wind Speed            13200 non-null  float64\n",
      " 3   Precipitation (%)     13200 non-null  float64\n",
      " 4   Cloud Cover           13200 non-null  object \n",
      " 5   Atmospheric Pressure  13200 non-null  float64\n",
      " 6   UV Index              13200 non-null  int64  \n",
      " 7   Season                13200 non-null  object \n",
      " 8   Visibility (km)       13200 non-null  float64\n",
      " 9   Location              13200 non-null  object \n",
      " 10  Weather Type          13200 non-null  object \n",
      "dtypes: float64(5), int64(2), object(4)\n",
      "memory usage: 1.1+ MB\n"
     ]
    }
   ],
   "source": [
    "df_weather.info()"
   ]
  },
  {
   "cell_type": "markdown",
   "id": "ee9fedf5-bd64-4dd7-9fb6-8a8ef7f67a5e",
   "metadata": {},
   "source": [
    "<a name=\"1-3\"></a>\n",
    "### Memeriksa nilai duplikasi di setiap kolom"
   ]
  },
  {
   "cell_type": "code",
   "execution_count": 313,
   "id": "2fba39da-8e41-4a24-aed6-42e31ad9a9a7",
   "metadata": {},
   "outputs": [
    {
     "data": {
      "text/plain": [
       "0"
      ]
     },
     "execution_count": 313,
     "metadata": {},
     "output_type": "execute_result"
    }
   ],
   "source": [
    "df_weather.duplicated().sum()"
   ]
  },
  {
   "cell_type": "markdown",
   "id": "3e80f031-9133-4c3e-a9e3-139713257a28",
   "metadata": {},
   "source": [
    "<a name=\"1-4\"></a>\n",
    "### Memeriksa jumlah outlier dimasing-masing kolom bertipe numerik"
   ]
  },
  {
   "cell_type": "code",
   "execution_count": 314,
   "id": "452bd6bc-4e92-4349-9f5a-416b1ac4fcea",
   "metadata": {},
   "outputs": [
    {
     "data": {
      "text/html": [
       "<div>\n",
       "<style scoped>\n",
       "    .dataframe tbody tr th:only-of-type {\n",
       "        vertical-align: middle;\n",
       "    }\n",
       "\n",
       "    .dataframe tbody tr th {\n",
       "        vertical-align: top;\n",
       "    }\n",
       "\n",
       "    .dataframe thead th {\n",
       "        text-align: right;\n",
       "    }\n",
       "</style>\n",
       "<table border=\"1\" class=\"dataframe\">\n",
       "  <thead>\n",
       "    <tr style=\"text-align: right;\">\n",
       "      <th></th>\n",
       "      <th>Temperature</th>\n",
       "      <th>Humidity</th>\n",
       "      <th>Wind Speed</th>\n",
       "      <th>Precipitation (%)</th>\n",
       "      <th>Atmospheric Pressure</th>\n",
       "      <th>UV Index</th>\n",
       "      <th>Visibility (km)</th>\n",
       "    </tr>\n",
       "  </thead>\n",
       "  <tbody>\n",
       "    <tr>\n",
       "      <th>count</th>\n",
       "      <td>13200.000000</td>\n",
       "      <td>13200.000000</td>\n",
       "      <td>13200.000000</td>\n",
       "      <td>13200.000000</td>\n",
       "      <td>13200.000000</td>\n",
       "      <td>13200.000000</td>\n",
       "      <td>13200.000000</td>\n",
       "    </tr>\n",
       "    <tr>\n",
       "      <th>mean</th>\n",
       "      <td>19.127576</td>\n",
       "      <td>68.710833</td>\n",
       "      <td>9.832197</td>\n",
       "      <td>53.644394</td>\n",
       "      <td>1005.827896</td>\n",
       "      <td>4.005758</td>\n",
       "      <td>5.462917</td>\n",
       "    </tr>\n",
       "    <tr>\n",
       "      <th>std</th>\n",
       "      <td>17.386327</td>\n",
       "      <td>20.194248</td>\n",
       "      <td>6.908704</td>\n",
       "      <td>31.946541</td>\n",
       "      <td>37.199589</td>\n",
       "      <td>3.856600</td>\n",
       "      <td>3.371499</td>\n",
       "    </tr>\n",
       "    <tr>\n",
       "      <th>min</th>\n",
       "      <td>-25.000000</td>\n",
       "      <td>20.000000</td>\n",
       "      <td>0.000000</td>\n",
       "      <td>0.000000</td>\n",
       "      <td>800.120000</td>\n",
       "      <td>0.000000</td>\n",
       "      <td>0.000000</td>\n",
       "    </tr>\n",
       "    <tr>\n",
       "      <th>25%</th>\n",
       "      <td>4.000000</td>\n",
       "      <td>57.000000</td>\n",
       "      <td>5.000000</td>\n",
       "      <td>19.000000</td>\n",
       "      <td>994.800000</td>\n",
       "      <td>1.000000</td>\n",
       "      <td>3.000000</td>\n",
       "    </tr>\n",
       "    <tr>\n",
       "      <th>50%</th>\n",
       "      <td>21.000000</td>\n",
       "      <td>70.000000</td>\n",
       "      <td>9.000000</td>\n",
       "      <td>58.000000</td>\n",
       "      <td>1007.650000</td>\n",
       "      <td>3.000000</td>\n",
       "      <td>5.000000</td>\n",
       "    </tr>\n",
       "    <tr>\n",
       "      <th>75%</th>\n",
       "      <td>31.000000</td>\n",
       "      <td>84.000000</td>\n",
       "      <td>13.500000</td>\n",
       "      <td>82.000000</td>\n",
       "      <td>1016.772500</td>\n",
       "      <td>7.000000</td>\n",
       "      <td>7.500000</td>\n",
       "    </tr>\n",
       "    <tr>\n",
       "      <th>max</th>\n",
       "      <td>109.000000</td>\n",
       "      <td>109.000000</td>\n",
       "      <td>48.500000</td>\n",
       "      <td>109.000000</td>\n",
       "      <td>1199.210000</td>\n",
       "      <td>14.000000</td>\n",
       "      <td>20.000000</td>\n",
       "    </tr>\n",
       "  </tbody>\n",
       "</table>\n",
       "</div>"
      ],
      "text/plain": [
       "        Temperature      Humidity    Wind Speed  Precipitation (%)  \\\n",
       "count  13200.000000  13200.000000  13200.000000       13200.000000   \n",
       "mean      19.127576     68.710833      9.832197          53.644394   \n",
       "std       17.386327     20.194248      6.908704          31.946541   \n",
       "min      -25.000000     20.000000      0.000000           0.000000   \n",
       "25%        4.000000     57.000000      5.000000          19.000000   \n",
       "50%       21.000000     70.000000      9.000000          58.000000   \n",
       "75%       31.000000     84.000000     13.500000          82.000000   \n",
       "max      109.000000    109.000000     48.500000         109.000000   \n",
       "\n",
       "       Atmospheric Pressure      UV Index  Visibility (km)  \n",
       "count          13200.000000  13200.000000     13200.000000  \n",
       "mean            1005.827896      4.005758         5.462917  \n",
       "std               37.199589      3.856600         3.371499  \n",
       "min              800.120000      0.000000         0.000000  \n",
       "25%              994.800000      1.000000         3.000000  \n",
       "50%             1007.650000      3.000000         5.000000  \n",
       "75%             1016.772500      7.000000         7.500000  \n",
       "max             1199.210000     14.000000        20.000000  "
      ]
     },
     "execution_count": 314,
     "metadata": {},
     "output_type": "execute_result"
    }
   ],
   "source": [
    "df_weather.describe()"
   ]
  },
  {
   "cell_type": "code",
   "execution_count": 315,
   "id": "a6520454-0b32-411b-a4c2-ce01b6c7a240",
   "metadata": {},
   "outputs": [
    {
     "name": "stdout",
     "output_type": "stream",
     "text": [
      "Outlier Berdasarkan Z-Score (Sebelum Diubah):\n",
      "- Temperature: 92 outlier\n",
      "- Wind Speed: 236 outlier\n",
      "- Atmospheric Pressure: 556 outlier\n",
      "- Visibility (km): 282 outlier\n",
      "- UV Index: 0 outlier\n"
     ]
    }
   ],
   "source": [
    "# ====== 1. Outlier Berdasarkan Z-Score ======\n",
    "# Daftar kolom numerik yang akan dicek\n",
    "columns_to_check = ['Temperature', 'Wind Speed', \n",
    "                    'Atmospheric Pressure', 'Visibility (km)', 'UV Index']\n",
    "\n",
    "# Simpan jumlah outlier berdasarkan Z-Score\n",
    "outliers_zscore = {}\n",
    "\n",
    "for col in columns_to_check:\n",
    "    z_scores = zscore(df_weather[col])\n",
    "    outliers = df_weather[abs(z_scores) > 3]\n",
    "    outliers_zscore[col] = outliers.shape[0]\n",
    "\n",
    "print(\"Outlier Berdasarkan Z-Score (Sebelum Diubah):\")\n",
    "for col, count in outliers_zscore.items():\n",
    "    print(f\"- {col}: {count} outlier\")"
   ]
  },
  {
   "cell_type": "code",
   "execution_count": 316,
   "id": "5754ea05-81cd-4604-97ba-a12e9fdd28a9",
   "metadata": {},
   "outputs": [
    {
     "data": {
      "image/png": "[encoded data removed]",
      "text/plain": [
       "<Figure size 1200x600 with 1 Axes>"
      ]
     },
     "metadata": {},
     "output_type": "display_data"
    }
   ],
   "source": [
    "# Set ukuran plot\n",
    "plt.figure(figsize=(12, 6))\n",
    "\n",
    "# Buat boxplot untuk masing-masing kolom numerik\n",
    "sns.boxplot(data=df_weather[columns_to_check], orient=\"h\", palette=\"Set2\")\n",
    "\n",
    "# Tambahkan judul dan label\n",
    "plt.title(\"Outlier Berdasarkan Z-Score (Sebelum Penanganan Outliers)\")\n",
    "plt.xlabel(\"Nilai\")\n",
    "plt.ylabel(\"Fitur\")\n",
    "\n",
    "plt.tight_layout()\n",
    "plt.show()"
   ]
  },
  {
   "cell_type": "code",
   "execution_count": 317,
   "id": "81d547c5-ff52-4b2d-b4c8-852566d8fe9a",
   "metadata": {},
   "outputs": [
    {
     "name": "stdout",
     "output_type": "stream",
     "text": [
      "\n",
      "Outlier Berdasarkan Batas Logis:\n",
      "- Humidity > 100: 416 outlier\n",
      "- Precipitation (%) > 100: 392 outlier\n"
     ]
    }
   ],
   "source": [
    "# ====== 2. Outlier Berdasarkan Batas Logis ======\n",
    "# Humidity dan Precipitation seharusnya tidak > 100\n",
    "columns_to_check_2 = ['Humidity', 'Precipitation (%)']\n",
    "# Membuat dictionary untuk menyimpan jumlah outlier\n",
    "logical_outliers = {}\n",
    "\n",
    "# Mengiterasi setiap kolom dalam columns_to_check untuk mengecek outlier\n",
    "for column in columns_to_check_2:\n",
    "    logical_outliers[f'{column} > 100'] = df_weather[df_weather[column] > 100].shape[0]\n",
    "\n",
    "# Menampilkan jumlah outlier berdasarkan batas logis\n",
    "print(\"\\nOutlier Berdasarkan Batas Logis:\")\n",
    "for column, outlier_count in logical_outliers.items():\n",
    "    print(f\"- {column}: {outlier_count} outlier\")"
   ]
  },
  {
   "cell_type": "code",
   "execution_count": 318,
   "id": "49b7b05c-5442-4860-aeac-8313e3ae8433",
   "metadata": {},
   "outputs": [
    {
     "data": {
      "image/png": "[encoded data removed]",
      "text/plain": [
       "<Figure size 1200x600 with 1 Axes>"
      ]
     },
     "metadata": {},
     "output_type": "display_data"
    }
   ],
   "source": [
    "# Set ukuran plot\n",
    "plt.figure(figsize=(12, 6))\n",
    "\n",
    "# Buat boxplot normal\n",
    "sns.boxplot(data=df_weather[columns_to_check_2], orient=\"h\", palette=\"Set2\", showfliers=True)\n",
    "\n",
    "# Tambahkan titik merah untuk nilai > 100\n",
    "for i, col in enumerate(columns_to_check_2):\n",
    "    outliers = df_weather[df_weather[columns_to_check_2] > 100][col]\n",
    "    plt.scatter(outliers, [i]*len(outliers), color='grey', label='Outlier > 100' if i == 0 else \"\", zorder=10)\n",
    "\n",
    "# Label dan title\n",
    "plt.title(\"Visualisasi Outlier Berdasarkan Batas Logis (>100)\")\n",
    "plt.xlabel(\"Nilai\")\n",
    "plt.ylabel(\"Fitur\")\n",
    "plt.legend()\n",
    "plt.tight_layout()\n",
    "plt.show()"
   ]
  },
  {
   "cell_type": "markdown",
   "id": "243f5b9f-4378-4270-9237-ed0cd3a57bab",
   "metadata": {},
   "source": [
    "<blockquote> Berdasarkan hasil analisis, outlier pada kolom humidity dan precipitation perlu ditangani karena nilainya tidak masuk akal, seperti melebihi 100%. Sementara itu, meskipun outlier pada kolom temperature, wind speed, atmospheric pressure, dan visibility masih mungkin terjadi secara alami, saya memutuskan untuk menangani semua outlier demi menjaga kualitas data dan menghindari gangguan pada hasil model.\n",
    "</blockquote> "
   ]
  },
  {
   "cell_type": "markdown",
   "id": "154e407e-686d-40bb-b5a8-2b294b6a6e86",
   "metadata": {},
   "source": [
    "<a name=\"1-5\"></a>\n",
    "### Menangani outlier pada kolom numerik"
   ]
  },
  {
   "cell_type": "code",
   "execution_count": 319,
   "id": "11e267e0-03ad-4eae-b7e8-6b4be3e42e36",
   "metadata": {},
   "outputs": [],
   "source": [
    "# Salin data asli\n",
    "df_cleaned = df_weather.copy()"
   ]
  },
  {
   "cell_type": "code",
   "execution_count": 320,
   "id": "41231711-b11a-4179-b342-77260565564b",
   "metadata": {},
   "outputs": [
    {
     "name": "stdout",
     "output_type": "stream",
     "text": [
      "Outlier Berdasarkan Z-Score (Setelah Penghapusan Iteratif):\n",
      "- Temperature: 0 outlier\n",
      "- Wind Speed: 0 outlier\n",
      "- Atmospheric Pressure: 0 outlier\n",
      "- Visibility (km): 0 outlier\n",
      "- UV Index: 0 outlier\n"
     ]
    }
   ],
   "source": [
    "### Imputation outliers dengan nilai median pada kolom Temperature, Wind Speed, Atmospheric Pressure', 'Visibility (km)\n",
    "# Loop hingga tidak ada lagi outlier\n",
    "while True:\n",
    "    # Hitung Z-score untuk setiap kolom\n",
    "    z_scores_df = df_cleaned[columns_to_check].apply(zscore)\n",
    "    \n",
    "    # Buat mask: True untuk baris yang tidak mengandung outlier di semua kolom\n",
    "    mask = (z_scores_df.abs() <= 3).all(axis=1)\n",
    "    \n",
    "    # Jika tidak ada baris yang dihapus (sudah bersih), hentikan loop\n",
    "    if mask.sum() == df_cleaned.shape[0]:\n",
    "        break\n",
    "    \n",
    "    # Update dataframe hanya dengan baris yang aman\n",
    "    df_cleaned = df_cleaned[mask]\n",
    "\n",
    "# Cek jumlah outlier akhir\n",
    "print(\"Outlier Berdasarkan Z-Score (Setelah Penghapusan Iteratif):\")\n",
    "for col in columns_to_check:\n",
    "    z_scores = zscore(df_cleaned[col])\n",
    "    count = (abs(z_scores) > 3).sum()\n",
    "    print(f\"- {col}: {count} outlier\")"
   ]
  },
  {
   "cell_type": "code",
   "execution_count": 321,
   "id": "81f9c64b-df05-4c12-ac2d-725713efc647",
   "metadata": {},
   "outputs": [
    {
     "data": {
      "image/png": "[encoded data removed]",
      "text/plain": [
       "<Figure size 1200x600 with 1 Axes>"
      ]
     },
     "metadata": {},
     "output_type": "display_data"
    }
   ],
   "source": [
    "# Visualisasi setelah penanganan\n",
    "plt.figure(figsize=(12, 6))\n",
    "sns.boxplot(data=df_cleaned[columns_to_check], orient=\"h\", palette=\"Set3\")\n",
    "plt.title(\"Box Plot Setelah Penanganan Outlier (Z-Score)\")\n",
    "plt.xlabel(\"Nilai\")\n",
    "plt.ylabel(\"Fitur\")\n",
    "plt.tight_layout()\n",
    "plt.show()"
   ]
  },
  {
   "cell_type": "code",
   "execution_count": 322,
   "id": "a6449c1c-dd5b-486f-868c-ee961b0825b3",
   "metadata": {},
   "outputs": [
    {
     "name": "stdout",
     "output_type": "stream",
     "text": [
      "\n",
      "Outlier Berdasarkan Batas Logis:\n",
      "- Humidity > 100: 0 outlier\n",
      "- Precipitation (%) > 100: 0 outlier\n"
     ]
    }
   ],
   "source": [
    "### Drop outliers pada kolom humidity dan precipitation\n",
    "df_cleaned = df_cleaned[(df_cleaned['Humidity'] <= 100) & (df_cleaned['Precipitation (%)'] <= 100)]\n",
    "\n",
    "# Humidity dan Precipitation seharusnya tidak > 100\n",
    "columns_to_check_2 = ['Humidity', 'Precipitation (%)']\n",
    "\n",
    "# Membuat dictionary untuk menyimpan jumlah outlier\n",
    "logical_outliers = {}\n",
    "\n",
    "# Mengiterasi setiap kolom dalam columns_to_check untuk mengecek outlier\n",
    "for column in columns_to_check_2:\n",
    "    logical_outliers[f'{column} > 100'] = df_cleaned[df_cleaned[column] > 100].shape[0]\n",
    "\n",
    "# Menampilkan jumlah outlier berdasarkan batas logis\n",
    "print(\"\\nOutlier Berdasarkan Batas Logis:\")\n",
    "for column, outlier_count in logical_outliers.items():\n",
    "    print(f\"- {column}: {outlier_count} outlier\")"
   ]
  },
  {
   "cell_type": "code",
   "execution_count": 323,
   "id": "e2cc0c0a-82d1-4a34-8f10-355f52f8e0a2",
   "metadata": {},
   "outputs": [
    {
     "data": {
      "image/png": "[encoded data removed]",
      "text/plain": [
       "<Figure size 1200x600 with 1 Axes>"
      ]
     },
     "metadata": {},
     "output_type": "display_data"
    }
   ],
   "source": [
    "# Set ukuran plot\n",
    "plt.figure(figsize=(12, 6))\n",
    "\n",
    "# Buat boxplot normal\n",
    "sns.boxplot(data=df_cleaned[columns_to_check_2], orient=\"h\", palette=\"Set2\", showfliers=True)\n",
    "\n",
    "# Tambahkan titik merah untuk nilai > 100\n",
    "for i, col in enumerate(columns_to_check_2):\n",
    "    outliers = df_cleaned[df_cleaned[col] > 100][col]  # Perbaikan di sini\n",
    "    plt.scatter(outliers, [i]*len(outliers), color='grey', label='Outlier > 100' if i == 0 else \"\", zorder=10)\n",
    "\n",
    "# Label dan title\n",
    "plt.title(\"Visualisasi Outlier Berdasarkan Batas Logis (>100)\")\n",
    "plt.xlabel(\"Nilai\")\n",
    "plt.ylabel(\"Fitur\")\n",
    "plt.legend()\n",
    "plt.tight_layout()\n",
    "plt.show()"
   ]
  },
  {
   "cell_type": "markdown",
   "id": "ba1c4872-6335-402b-b5a3-e12318137847",
   "metadata": {},
   "source": [
    "<blockquote>Untuk menangani outliers pada kolom temperature, humidity, wind speed, precipitation, Atmospheric Pressure', 'Visibility (km), dan UV Index dilakukan penghapusan pada baris yang memiliki outliers. Pada kolom humidity dan precipitation, outlier di cek menggunakan IQT, sedangkan  kolom temperature, wind speed, atmospheric pressure', 'visibility, dan UV Index menggunakan Z-Score. Hal ini dilakukan karena jumlah outliers yang ada pada  kolom-kolom ini sedikit, sehingga ketika di hapus tidak memberikan pengaruh terhadap akurasi model.</blockquote>"
   ]
  },
  {
   "cell_type": "code",
   "execution_count": 324,
   "id": "eb8d1edd-4317-49cb-9a8f-8d29f34d57ae",
   "metadata": {},
   "outputs": [
    {
     "data": {
      "text/html": [
       "<div>\n",
       "<style scoped>\n",
       "    .dataframe tbody tr th:only-of-type {\n",
       "        vertical-align: middle;\n",
       "    }\n",
       "\n",
       "    .dataframe tbody tr th {\n",
       "        vertical-align: top;\n",
       "    }\n",
       "\n",
       "    .dataframe thead th {\n",
       "        text-align: right;\n",
       "    }\n",
       "</style>\n",
       "<table border=\"1\" class=\"dataframe\">\n",
       "  <thead>\n",
       "    <tr style=\"text-align: right;\">\n",
       "      <th></th>\n",
       "      <th>Temperature</th>\n",
       "      <th>Humidity</th>\n",
       "      <th>Wind Speed</th>\n",
       "      <th>Precipitation (%)</th>\n",
       "      <th>Atmospheric Pressure</th>\n",
       "      <th>UV Index</th>\n",
       "      <th>Visibility (km)</th>\n",
       "    </tr>\n",
       "  </thead>\n",
       "  <tbody>\n",
       "    <tr>\n",
       "      <th>count</th>\n",
       "      <td>11102.000000</td>\n",
       "      <td>11102.000000</td>\n",
       "      <td>11102.000000</td>\n",
       "      <td>11102.000000</td>\n",
       "      <td>11102.000000</td>\n",
       "      <td>11102.000000</td>\n",
       "      <td>11102.000000</td>\n",
       "    </tr>\n",
       "    <tr>\n",
       "      <th>mean</th>\n",
       "      <td>18.638444</td>\n",
       "      <td>68.260313</td>\n",
       "      <td>9.050486</td>\n",
       "      <td>49.857233</td>\n",
       "      <td>1006.202899</td>\n",
       "      <td>3.427400</td>\n",
       "      <td>5.107638</td>\n",
       "    </tr>\n",
       "    <tr>\n",
       "      <th>std</th>\n",
       "      <td>15.334039</td>\n",
       "      <td>18.739972</td>\n",
       "      <td>5.482440</td>\n",
       "      <td>31.247346</td>\n",
       "      <td>12.811462</td>\n",
       "      <td>3.462736</td>\n",
       "      <td>2.540411</td>\n",
       "    </tr>\n",
       "    <tr>\n",
       "      <th>min</th>\n",
       "      <td>-24.000000</td>\n",
       "      <td>20.000000</td>\n",
       "      <td>0.000000</td>\n",
       "      <td>0.000000</td>\n",
       "      <td>967.860000</td>\n",
       "      <td>0.000000</td>\n",
       "      <td>0.000000</td>\n",
       "    </tr>\n",
       "    <tr>\n",
       "      <th>25%</th>\n",
       "      <td>4.000000</td>\n",
       "      <td>58.000000</td>\n",
       "      <td>5.000000</td>\n",
       "      <td>18.000000</td>\n",
       "      <td>995.782500</td>\n",
       "      <td>1.000000</td>\n",
       "      <td>3.000000</td>\n",
       "    </tr>\n",
       "    <tr>\n",
       "      <th>50%</th>\n",
       "      <td>21.000000</td>\n",
       "      <td>69.000000</td>\n",
       "      <td>8.500000</td>\n",
       "      <td>53.000000</td>\n",
       "      <td>1007.755000</td>\n",
       "      <td>2.000000</td>\n",
       "      <td>5.000000</td>\n",
       "    </tr>\n",
       "    <tr>\n",
       "      <th>75%</th>\n",
       "      <td>30.000000</td>\n",
       "      <td>82.000000</td>\n",
       "      <td>13.000000</td>\n",
       "      <td>78.000000</td>\n",
       "      <td>1016.250000</td>\n",
       "      <td>5.000000</td>\n",
       "      <td>7.500000</td>\n",
       "    </tr>\n",
       "    <tr>\n",
       "      <th>max</th>\n",
       "      <td>66.000000</td>\n",
       "      <td>100.000000</td>\n",
       "      <td>26.000000</td>\n",
       "      <td>100.000000</td>\n",
       "      <td>1044.040000</td>\n",
       "      <td>14.000000</td>\n",
       "      <td>12.500000</td>\n",
       "    </tr>\n",
       "  </tbody>\n",
       "</table>\n",
       "</div>"
      ],
      "text/plain": [
       "        Temperature      Humidity    Wind Speed  Precipitation (%)  \\\n",
       "count  11102.000000  11102.000000  11102.000000       11102.000000   \n",
       "mean      18.638444     68.260313      9.050486          49.857233   \n",
       "std       15.334039     18.739972      5.482440          31.247346   \n",
       "min      -24.000000     20.000000      0.000000           0.000000   \n",
       "25%        4.000000     58.000000      5.000000          18.000000   \n",
       "50%       21.000000     69.000000      8.500000          53.000000   \n",
       "75%       30.000000     82.000000     13.000000          78.000000   \n",
       "max       66.000000    100.000000     26.000000         100.000000   \n",
       "\n",
       "       Atmospheric Pressure      UV Index  Visibility (km)  \n",
       "count          11102.000000  11102.000000     11102.000000  \n",
       "mean            1006.202899      3.427400         5.107638  \n",
       "std               12.811462      3.462736         2.540411  \n",
       "min              967.860000      0.000000         0.000000  \n",
       "25%              995.782500      1.000000         3.000000  \n",
       "50%             1007.755000      2.000000         5.000000  \n",
       "75%             1016.250000      5.000000         7.500000  \n",
       "max             1044.040000     14.000000        12.500000  "
      ]
     },
     "execution_count": 324,
     "metadata": {},
     "output_type": "execute_result"
    }
   ],
   "source": [
    "df_cleaned.describe()"
   ]
  },
  {
   "cell_type": "markdown",
   "id": "0bb4f246-e597-40de-af40-51674076c406",
   "metadata": {},
   "source": [
    "<a name=\"2\"></a>\n",
    "## **FEATURE ENGINEERING**"
   ]
  },
  {
   "cell_type": "markdown",
   "id": "8167b336-c263-4781-a4aa-8d59130c262c",
   "metadata": {},
   "source": [
    "<a name=\"2-1\"></a>\n",
    "### Konversi tipe data kategorigal ke numerik dengan Ordinal Encoder"
   ]
  },
  {
   "cell_type": "code",
   "execution_count": 325,
   "id": "904bbc19-cb6c-4548-8fd0-d436eaaae82e",
   "metadata": {},
   "outputs": [
    {
     "data": {
      "text/plain": [
       "array(['partly cloudy', 'clear', 'overcast', 'cloudy'], dtype=object)"
      ]
     },
     "execution_count": 325,
     "metadata": {},
     "output_type": "execute_result"
    }
   ],
   "source": [
    "df_cleaned['Cloud Cover'].unique()"
   ]
  },
  {
   "cell_type": "code",
   "execution_count": 326,
   "id": "2f4379da-d211-4feb-af75-206a2d9016b5",
   "metadata": {},
   "outputs": [
    {
     "data": {
      "text/plain": [
       "array(['Winter', 'Spring', 'Summer', 'Autumn'], dtype=object)"
      ]
     },
     "execution_count": 326,
     "metadata": {},
     "output_type": "execute_result"
    }
   ],
   "source": [
    "df_cleaned['Season'].unique()"
   ]
  },
  {
   "cell_type": "code",
   "execution_count": 327,
   "id": "4e57b750-e2a6-4667-b24f-884c4266e44c",
   "metadata": {},
   "outputs": [
    {
     "data": {
      "text/plain": [
       "array(['inland', 'mountain', 'coastal'], dtype=object)"
      ]
     },
     "execution_count": 327,
     "metadata": {},
     "output_type": "execute_result"
    }
   ],
   "source": [
    "df_cleaned['Location'].unique()"
   ]
  },
  {
   "cell_type": "code",
   "execution_count": 328,
   "id": "0b9c59ff-067d-45a6-bc07-e4e67ac371ba",
   "metadata": {},
   "outputs": [
    {
     "data": {
      "text/plain": [
       "array(['Rainy', 'Cloudy', 'Sunny', 'Snowy'], dtype=object)"
      ]
     },
     "execution_count": 328,
     "metadata": {},
     "output_type": "execute_result"
    }
   ],
   "source": [
    "df_cleaned['Weather Type'].unique()"
   ]
  },
  {
   "cell_type": "code",
   "execution_count": 329,
   "id": "67b3bed0-e0be-4281-a15c-6b355118b5f7",
   "metadata": {},
   "outputs": [
    {
     "data": {
      "text/html": [
       "<div>\n",
       "<style scoped>\n",
       "    .dataframe tbody tr th:only-of-type {\n",
       "        vertical-align: middle;\n",
       "    }\n",
       "\n",
       "    .dataframe tbody tr th {\n",
       "        vertical-align: top;\n",
       "    }\n",
       "\n",
       "    .dataframe thead th {\n",
       "        text-align: right;\n",
       "    }\n",
       "</style>\n",
       "<table border=\"1\" class=\"dataframe\">\n",
       "  <thead>\n",
       "    <tr style=\"text-align: right;\">\n",
       "      <th></th>\n",
       "      <th>Temperature</th>\n",
       "      <th>Humidity</th>\n",
       "      <th>Wind Speed</th>\n",
       "      <th>Precipitation (%)</th>\n",
       "      <th>Cloud Cover</th>\n",
       "      <th>Atmospheric Pressure</th>\n",
       "      <th>UV Index</th>\n",
       "      <th>Season</th>\n",
       "      <th>Visibility (km)</th>\n",
       "      <th>Location</th>\n",
       "      <th>Weather Type</th>\n",
       "    </tr>\n",
       "  </thead>\n",
       "  <tbody>\n",
       "    <tr>\n",
       "      <th>0</th>\n",
       "      <td>14.0</td>\n",
       "      <td>73</td>\n",
       "      <td>9.5</td>\n",
       "      <td>82.0</td>\n",
       "      <td>3.0</td>\n",
       "      <td>1010.82</td>\n",
       "      <td>2</td>\n",
       "      <td>3.0</td>\n",
       "      <td>3.5</td>\n",
       "      <td>1.0</td>\n",
       "      <td>1.0</td>\n",
       "    </tr>\n",
       "    <tr>\n",
       "      <th>1</th>\n",
       "      <td>39.0</td>\n",
       "      <td>96</td>\n",
       "      <td>8.5</td>\n",
       "      <td>71.0</td>\n",
       "      <td>3.0</td>\n",
       "      <td>1011.43</td>\n",
       "      <td>7</td>\n",
       "      <td>1.0</td>\n",
       "      <td>10.0</td>\n",
       "      <td>1.0</td>\n",
       "      <td>0.0</td>\n",
       "    </tr>\n",
       "    <tr>\n",
       "      <th>2</th>\n",
       "      <td>30.0</td>\n",
       "      <td>64</td>\n",
       "      <td>7.0</td>\n",
       "      <td>16.0</td>\n",
       "      <td>0.0</td>\n",
       "      <td>1018.72</td>\n",
       "      <td>5</td>\n",
       "      <td>1.0</td>\n",
       "      <td>5.5</td>\n",
       "      <td>2.0</td>\n",
       "      <td>3.0</td>\n",
       "    </tr>\n",
       "    <tr>\n",
       "      <th>3</th>\n",
       "      <td>38.0</td>\n",
       "      <td>83</td>\n",
       "      <td>1.5</td>\n",
       "      <td>82.0</td>\n",
       "      <td>0.0</td>\n",
       "      <td>1026.25</td>\n",
       "      <td>7</td>\n",
       "      <td>1.0</td>\n",
       "      <td>1.0</td>\n",
       "      <td>0.0</td>\n",
       "      <td>3.0</td>\n",
       "    </tr>\n",
       "    <tr>\n",
       "      <th>4</th>\n",
       "      <td>27.0</td>\n",
       "      <td>74</td>\n",
       "      <td>17.0</td>\n",
       "      <td>66.0</td>\n",
       "      <td>2.0</td>\n",
       "      <td>990.67</td>\n",
       "      <td>1</td>\n",
       "      <td>3.0</td>\n",
       "      <td>2.5</td>\n",
       "      <td>2.0</td>\n",
       "      <td>1.0</td>\n",
       "    </tr>\n",
       "    <tr>\n",
       "      <th>...</th>\n",
       "      <td>...</td>\n",
       "      <td>...</td>\n",
       "      <td>...</td>\n",
       "      <td>...</td>\n",
       "      <td>...</td>\n",
       "      <td>...</td>\n",
       "      <td>...</td>\n",
       "      <td>...</td>\n",
       "      <td>...</td>\n",
       "      <td>...</td>\n",
       "      <td>...</td>\n",
       "    </tr>\n",
       "    <tr>\n",
       "      <th>13194</th>\n",
       "      <td>29.0</td>\n",
       "      <td>62</td>\n",
       "      <td>13.0</td>\n",
       "      <td>17.0</td>\n",
       "      <td>2.0</td>\n",
       "      <td>1002.81</td>\n",
       "      <td>2</td>\n",
       "      <td>1.0</td>\n",
       "      <td>5.0</td>\n",
       "      <td>0.0</td>\n",
       "      <td>0.0</td>\n",
       "    </tr>\n",
       "    <tr>\n",
       "      <th>13195</th>\n",
       "      <td>10.0</td>\n",
       "      <td>74</td>\n",
       "      <td>14.5</td>\n",
       "      <td>71.0</td>\n",
       "      <td>2.0</td>\n",
       "      <td>1003.15</td>\n",
       "      <td>1</td>\n",
       "      <td>2.0</td>\n",
       "      <td>1.0</td>\n",
       "      <td>2.0</td>\n",
       "      <td>1.0</td>\n",
       "    </tr>\n",
       "    <tr>\n",
       "      <th>13197</th>\n",
       "      <td>30.0</td>\n",
       "      <td>77</td>\n",
       "      <td>5.5</td>\n",
       "      <td>28.0</td>\n",
       "      <td>2.0</td>\n",
       "      <td>1012.69</td>\n",
       "      <td>3</td>\n",
       "      <td>0.0</td>\n",
       "      <td>9.0</td>\n",
       "      <td>0.0</td>\n",
       "      <td>0.0</td>\n",
       "    </tr>\n",
       "    <tr>\n",
       "      <th>13198</th>\n",
       "      <td>3.0</td>\n",
       "      <td>76</td>\n",
       "      <td>10.0</td>\n",
       "      <td>94.0</td>\n",
       "      <td>2.0</td>\n",
       "      <td>984.27</td>\n",
       "      <td>0</td>\n",
       "      <td>3.0</td>\n",
       "      <td>2.0</td>\n",
       "      <td>1.0</td>\n",
       "      <td>2.0</td>\n",
       "    </tr>\n",
       "    <tr>\n",
       "      <th>13199</th>\n",
       "      <td>-5.0</td>\n",
       "      <td>38</td>\n",
       "      <td>0.0</td>\n",
       "      <td>92.0</td>\n",
       "      <td>2.0</td>\n",
       "      <td>1015.37</td>\n",
       "      <td>5</td>\n",
       "      <td>0.0</td>\n",
       "      <td>10.0</td>\n",
       "      <td>2.0</td>\n",
       "      <td>1.0</td>\n",
       "    </tr>\n",
       "  </tbody>\n",
       "</table>\n",
       "<p>11102 rows × 11 columns</p>\n",
       "</div>"
      ],
      "text/plain": [
       "       Temperature  Humidity  Wind Speed  Precipitation (%)  Cloud Cover  \\\n",
       "0             14.0        73         9.5               82.0          3.0   \n",
       "1             39.0        96         8.5               71.0          3.0   \n",
       "2             30.0        64         7.0               16.0          0.0   \n",
       "3             38.0        83         1.5               82.0          0.0   \n",
       "4             27.0        74        17.0               66.0          2.0   \n",
       "...            ...       ...         ...                ...          ...   \n",
       "13194         29.0        62        13.0               17.0          2.0   \n",
       "13195         10.0        74        14.5               71.0          2.0   \n",
       "13197         30.0        77         5.5               28.0          2.0   \n",
       "13198          3.0        76        10.0               94.0          2.0   \n",
       "13199         -5.0        38         0.0               92.0          2.0   \n",
       "\n",
       "       Atmospheric Pressure  UV Index  Season  Visibility (km)  Location  \\\n",
       "0                   1010.82         2     3.0              3.5       1.0   \n",
       "1                   1011.43         7     1.0             10.0       1.0   \n",
       "2                   1018.72         5     1.0              5.5       2.0   \n",
       "3                   1026.25         7     1.0              1.0       0.0   \n",
       "4                    990.67         1     3.0              2.5       2.0   \n",
       "...                     ...       ...     ...              ...       ...   \n",
       "13194               1002.81         2     1.0              5.0       0.0   \n",
       "13195               1003.15         1     2.0              1.0       2.0   \n",
       "13197               1012.69         3     0.0              9.0       0.0   \n",
       "13198                984.27         0     3.0              2.0       1.0   \n",
       "13199               1015.37         5     0.0             10.0       2.0   \n",
       "\n",
       "       Weather Type  \n",
       "0               1.0  \n",
       "1               0.0  \n",
       "2               3.0  \n",
       "3               3.0  \n",
       "4               1.0  \n",
       "...             ...  \n",
       "13194           0.0  \n",
       "13195           1.0  \n",
       "13197           0.0  \n",
       "13198           2.0  \n",
       "13199           1.0  \n",
       "\n",
       "[11102 rows x 11 columns]"
      ]
     },
     "execution_count": 329,
     "metadata": {},
     "output_type": "execute_result"
    }
   ],
   "source": [
    "eo = OrdinalEncoder()\n",
    "df_cleaned[['Cloud Cover']] = eo.fit_transform(df_cleaned[['Cloud Cover']])\n",
    "df_cleaned[['Season']] = eo.fit_transform(df_cleaned[['Season']])\n",
    "df_cleaned[['Location']] = eo.fit_transform(df_cleaned[['Location']])\n",
    "df_cleaned[['Weather Type']] = eo.fit_transform(df_cleaned[['Weather Type']])\n",
    "df_cleaned"
   ]
  },
  {
   "cell_type": "markdown",
   "id": "536522cf-a2ab-4f3a-8619-a8c58a0fa487",
   "metadata": {},
   "source": [
    "<a name=\"3\"></a>\n",
    "## **DATA TRANSFORMATION**"
   ]
  },
  {
   "cell_type": "markdown",
   "id": "958fe881-0238-45d0-ad67-86ee6fa67dcf",
   "metadata": {},
   "source": [
    "<a name=\"3-1\"></a>\n",
    "### Normalisasi fitur numerik"
   ]
  },
  {
   "cell_type": "code",
   "execution_count": 330,
   "id": "a9c6eb0e-5eca-474b-b0e9-b809a03e5a87",
   "metadata": {},
   "outputs": [
    {
     "data": {
      "text/html": [
       "<div>\n",
       "<style scoped>\n",
       "    .dataframe tbody tr th:only-of-type {\n",
       "        vertical-align: middle;\n",
       "    }\n",
       "\n",
       "    .dataframe tbody tr th {\n",
       "        vertical-align: top;\n",
       "    }\n",
       "\n",
       "    .dataframe thead th {\n",
       "        text-align: right;\n",
       "    }\n",
       "</style>\n",
       "<table border=\"1\" class=\"dataframe\">\n",
       "  <thead>\n",
       "    <tr style=\"text-align: right;\">\n",
       "      <th></th>\n",
       "      <th>Temperature</th>\n",
       "      <th>Humidity</th>\n",
       "      <th>Wind Speed</th>\n",
       "      <th>Precipitation (%)</th>\n",
       "      <th>Cloud Cover</th>\n",
       "      <th>Atmospheric Pressure</th>\n",
       "      <th>UV Index</th>\n",
       "      <th>Season</th>\n",
       "      <th>Visibility (km)</th>\n",
       "      <th>Location</th>\n",
       "      <th>Weather Type</th>\n",
       "    </tr>\n",
       "  </thead>\n",
       "  <tbody>\n",
       "    <tr>\n",
       "      <th>0</th>\n",
       "      <td>-0.302507</td>\n",
       "      <td>0.252930</td>\n",
       "      <td>0.081995</td>\n",
       "      <td>1.028702</td>\n",
       "      <td>3.0</td>\n",
       "      <td>0.360404</td>\n",
       "      <td>-0.412236</td>\n",
       "      <td>3.0</td>\n",
       "      <td>-0.632855</td>\n",
       "      <td>1.0</td>\n",
       "      <td>1.0</td>\n",
       "    </tr>\n",
       "    <tr>\n",
       "      <th>1</th>\n",
       "      <td>1.327926</td>\n",
       "      <td>1.480308</td>\n",
       "      <td>-0.100414</td>\n",
       "      <td>0.676656</td>\n",
       "      <td>3.0</td>\n",
       "      <td>0.408020</td>\n",
       "      <td>1.031774</td>\n",
       "      <td>1.0</td>\n",
       "      <td>1.925902</td>\n",
       "      <td>1.0</td>\n",
       "      <td>0.0</td>\n",
       "    </tr>\n",
       "    <tr>\n",
       "      <th>2</th>\n",
       "      <td>0.740970</td>\n",
       "      <td>-0.227349</td>\n",
       "      <td>-0.374027</td>\n",
       "      <td>-1.083572</td>\n",
       "      <td>0.0</td>\n",
       "      <td>0.977068</td>\n",
       "      <td>0.454170</td>\n",
       "      <td>1.0</td>\n",
       "      <td>0.154455</td>\n",
       "      <td>2.0</td>\n",
       "      <td>3.0</td>\n",
       "    </tr>\n",
       "    <tr>\n",
       "      <th>3</th>\n",
       "      <td>1.262709</td>\n",
       "      <td>0.786573</td>\n",
       "      <td>-1.377275</td>\n",
       "      <td>1.028702</td>\n",
       "      <td>0.0</td>\n",
       "      <td>1.564849</td>\n",
       "      <td>1.031774</td>\n",
       "      <td>1.0</td>\n",
       "      <td>-1.616992</td>\n",
       "      <td>0.0</td>\n",
       "      <td>3.0</td>\n",
       "    </tr>\n",
       "    <tr>\n",
       "      <th>4</th>\n",
       "      <td>0.545318</td>\n",
       "      <td>0.306294</td>\n",
       "      <td>1.450061</td>\n",
       "      <td>0.516636</td>\n",
       "      <td>2.0</td>\n",
       "      <td>-1.212477</td>\n",
       "      <td>-0.701038</td>\n",
       "      <td>3.0</td>\n",
       "      <td>-1.026510</td>\n",
       "      <td>2.0</td>\n",
       "      <td>1.0</td>\n",
       "    </tr>\n",
       "  </tbody>\n",
       "</table>\n",
       "</div>"
      ],
      "text/plain": [
       "   Temperature  Humidity  Wind Speed  Precipitation (%)  Cloud Cover  \\\n",
       "0    -0.302507  0.252930    0.081995           1.028702          3.0   \n",
       "1     1.327926  1.480308   -0.100414           0.676656          3.0   \n",
       "2     0.740970 -0.227349   -0.374027          -1.083572          0.0   \n",
       "3     1.262709  0.786573   -1.377275           1.028702          0.0   \n",
       "4     0.545318  0.306294    1.450061           0.516636          2.0   \n",
       "\n",
       "   Atmospheric Pressure  UV Index  Season  Visibility (km)  Location  \\\n",
       "0              0.360404 -0.412236     3.0        -0.632855       1.0   \n",
       "1              0.408020  1.031774     1.0         1.925902       1.0   \n",
       "2              0.977068  0.454170     1.0         0.154455       2.0   \n",
       "3              1.564849  1.031774     1.0        -1.616992       0.0   \n",
       "4             -1.212477 -0.701038     3.0        -1.026510       2.0   \n",
       "\n",
       "   Weather Type  \n",
       "0           1.0  \n",
       "1           0.0  \n",
       "2           3.0  \n",
       "3           3.0  \n",
       "4           1.0  "
      ]
     },
     "execution_count": 330,
     "metadata": {},
     "output_type": "execute_result"
    }
   ],
   "source": [
    "numeric_columns = ['Temperature', 'Humidity', 'Wind Speed', \n",
    "                     'Precipitation (%)', 'Atmospheric Pressure', \n",
    "                     'UV Index', 'Visibility (km)']\n",
    "sc = StandardScaler()\n",
    "normalized_data = sc.fit_transform(df_cleaned[numeric_columns])\n",
    "\n",
    "df_cleaned_normalized = df_cleaned.copy()\n",
    "df_cleaned_normalized[numeric_columns] = normalized_data\n",
    "df_cleaned_normalized.head()"
   ]
  },
  {
   "cell_type": "markdown",
   "id": "61ba4c5d-1233-4814-926d-933097c0d368",
   "metadata": {},
   "source": [
    "<blockquote>Normalisasi dilakukan pada kolom temperature, humidity, wind speed, dan precipitation agar tidak ada fitur yang mendominasi karena skala yang besar. Selain itu, karena sebelumnya telah dilakukan penghapusan outlier, maka penggunaan MinMaxScaler dirasa lebih baik dibandingkan StandardScaler</blockquote>"
   ]
  },
  {
   "cell_type": "markdown",
   "id": "357483be-4aa6-4a61-8708-e9cb5a6e7ce5",
   "metadata": {},
   "source": [
    "<a name=\"4\"></a>\n",
    "## **MODELING**\n",
    "\n",
    "<blockquote> \n",
    "Algoritma Random Forest dipilih untuk tugas klasifikasi cuaca karena kemampuannya menangani data numerik dan kategoris, serta cocok untuk klasifikasi multikelas seperti Rainy, Sunny, Cloudy, dan Snowy. Random Forest bekerja dengan membangun banyak pohon keputusan dari subset data dan fitur secara acak, lalu menggabungkan hasil prediksinya melalui voting mayoritas.\n",
    "\n",
    "<br>Metode ini unggul karena:</br>\n",
    "- Robust terhadap outlier dan noise, yang penting karena dataset mengandung nilai ekstrem.\n",
    "- Tidak mudah overfitting, berkat pendekatan ensemble-nya.\n",
    "- Dapat memberikan feature importance, membantu memahami fitur paling berpengaruh terhadap prediksi cuaca.\n",
    "</blockquote> \n"
   ]
  },
  {
   "cell_type": "markdown",
   "id": "c2cbbdaa-6516-47cf-81f7-325ba1c16935",
   "metadata": {},
   "source": [
    "<a name=\"4-1\"></a>\n",
    "### Split Data"
   ]
  },
  {
   "cell_type": "code",
   "execution_count": 331,
   "id": "2ff4b9bb-b646-4f84-b646-dde4078cbbb7",
   "metadata": {},
   "outputs": [],
   "source": [
    "### Split data menjadi features (X) dan target (y)\n",
    "X = df_cleaned_normalized.drop('Weather Type', axis=1)\n",
    "y = df_cleaned_normalized['Weather Type']\n",
    "x_reshaped = np.expand_dims(X, axis=1)\n",
    "y_reshaped = np.expand_dims(y, axis=1)\n",
    "\n",
    "### Split data menjadi data training dan data testing (80:20)\n",
    "X_train, X_test, y_train, y_test = train_test_split(x_reshaped, y_reshaped, test_size=0.2)"
   ]
  },
  {
   "cell_type": "code",
   "execution_count": 332,
   "id": "bd0c9119-b512-4294-b706-bb1d38b9f1b6",
   "metadata": {},
   "outputs": [
    {
     "data": {
      "text/plain": [
       "0        1.0\n",
       "1        0.0\n",
       "2        3.0\n",
       "3        3.0\n",
       "4        1.0\n",
       "        ... \n",
       "13194    0.0\n",
       "13195    1.0\n",
       "13197    0.0\n",
       "13198    2.0\n",
       "13199    1.0\n",
       "Name: Weather Type, Length: 11102, dtype: float64"
      ]
     },
     "execution_count": 332,
     "metadata": {},
     "output_type": "execute_result"
    }
   ],
   "source": [
    "y"
   ]
  },
  {
   "cell_type": "code",
   "execution_count": 333,
   "id": "b545d29e-457a-4681-ba2e-5916c059ca8c",
   "metadata": {},
   "outputs": [
    {
     "name": "stdout",
     "output_type": "stream",
     "text": [
      "(8881, 1, 10)\n",
      "(2221, 1, 10)\n",
      "(8881, 1)\n",
      "(2221, 1)\n"
     ]
    }
   ],
   "source": [
    "print(X_train.shape)\n",
    "print(X_test.shape)\n",
    "print(y_train.shape)\n",
    "print(y_test.shape)"
   ]
  },
  {
   "cell_type": "markdown",
   "id": "7181db52-c227-4c35-ba69-0f5a9f63bce2",
   "metadata": {},
   "source": [
    "<a name=\"4-2\"></a>\n",
    "### Membangun model LSTM"
   ]
  },
  {
   "cell_type": "code",
   "execution_count": 335,
   "id": "e1989d77-6291-4f59-8254-c1a7c54d169f",
   "metadata": {},
   "outputs": [],
   "source": [
    "model = Sequential([\n",
    "    LSTM(64, return_sequences=True, input_shape=(1, 10)),\n",
    "    Dropout(0.2),\n",
    "    LSTM(32, activation='relu', kernel_regularizer=l2(0.01)),  \n",
    "    Dropout(0.2),\n",
    "    Dense(4, activation='softmax', kernel_regularizer=l2(0.01))\n",
    "])\n",
    "\n",
    "model.compile(optimizer='adam', loss='sparse_categorical_crossentropy', metrics=['accuracy'])"
   ]
  },
  {
   "cell_type": "code",
   "execution_count": 336,
   "id": "c2aafdfd-e3e3-412b-b956-2819d30cb0ee",
   "metadata": {},
   "outputs": [
    {
     "name": "stdout",
     "output_type": "stream",
     "text": [
      "Model: \"sequential_10\"\n",
      "_________________________________________________________________\n",
      " Layer (type)                Output Shape              Param #   \n",
      "=================================================================\n",
      " lstm_20 (LSTM)              (None, 1, 64)             19200     \n",
      "                                                                 \n",
      " dropout_20 (Dropout)        (None, 1, 64)             0         \n",
      "                                                                 \n",
      " lstm_21 (LSTM)              (None, 32)                12416     \n",
      "                                                                 \n",
      " dropout_21 (Dropout)        (None, 32)                0         \n",
      "                                                                 \n",
      " dense_10 (Dense)            (None, 4)                 132       \n",
      "                                                                 \n",
      "=================================================================\n",
      "Total params: 31748 (124.02 KB)\n",
      "Trainable params: 31748 (124.02 KB)\n",
      "Non-trainable params: 0 (0.00 Byte)\n",
      "_________________________________________________________________\n"
     ]
    }
   ],
   "source": [
    "model.summary()"
   ]
  },
  {
   "cell_type": "code",
   "execution_count": 337,
   "id": "928f0b94-d916-412a-88aa-f7a31b94b512",
   "metadata": {},
   "outputs": [
    {
     "name": "stdout",
     "output_type": "stream",
     "text": [
      "Epoch 1/100\n",
      "222/222 [==============================] - 3s 5ms/step - loss: 1.2374 - accuracy: 0.7524 - val_loss: 0.5880 - val_accuracy: 0.9454\n",
      "Epoch 2/100\n",
      "222/222 [==============================] - 1s 2ms/step - loss: 0.4932 - accuracy: 0.9468 - val_loss: 0.4220 - val_accuracy: 0.9567\n",
      "Epoch 3/100\n",
      "222/222 [==============================] - 1s 4ms/step - loss: 0.4004 - accuracy: 0.9538 - val_loss: 0.3716 - val_accuracy: 0.9600\n",
      "Epoch 4/100\n",
      "222/222 [==============================] - 0s 2ms/step - loss: 0.3645 - accuracy: 0.9583 - val_loss: 0.3439 - val_accuracy: 0.9606\n",
      "Epoch 5/100\n",
      "222/222 [==============================] - 0s 2ms/step - loss: 0.3371 - accuracy: 0.9592 - val_loss: 0.3232 - val_accuracy: 0.9612\n",
      "Epoch 6/100\n",
      "222/222 [==============================] - 1s 2ms/step - loss: 0.3207 - accuracy: 0.9604 - val_loss: 0.3095 - val_accuracy: 0.9640\n",
      "Epoch 7/100\n",
      "222/222 [==============================] - 1s 2ms/step - loss: 0.3076 - accuracy: 0.9619 - val_loss: 0.2994 - val_accuracy: 0.9612\n",
      "Epoch 8/100\n",
      "222/222 [==============================] - 1s 3ms/step - loss: 0.3016 - accuracy: 0.9613 - val_loss: 0.2900 - val_accuracy: 0.9645\n",
      "Epoch 9/100\n",
      "222/222 [==============================] - 1s 3ms/step - loss: 0.2870 - accuracy: 0.9637 - val_loss: 0.2838 - val_accuracy: 0.9629\n",
      "Epoch 10/100\n",
      "222/222 [==============================] - 1s 2ms/step - loss: 0.2765 - accuracy: 0.9644 - val_loss: 0.2784 - val_accuracy: 0.9623\n",
      "Epoch 11/100\n",
      "222/222 [==============================] - 1s 3ms/step - loss: 0.2752 - accuracy: 0.9652 - val_loss: 0.2726 - val_accuracy: 0.9640\n",
      "Epoch 12/100\n",
      "222/222 [==============================] - 1s 3ms/step - loss: 0.2664 - accuracy: 0.9645 - val_loss: 0.2672 - val_accuracy: 0.9662\n",
      "Epoch 13/100\n",
      "222/222 [==============================] - 1s 3ms/step - loss: 0.2623 - accuracy: 0.9665 - val_loss: 0.2620 - val_accuracy: 0.9651\n",
      "Epoch 14/100\n",
      "222/222 [==============================] - 1s 3ms/step - loss: 0.2587 - accuracy: 0.9665 - val_loss: 0.2569 - val_accuracy: 0.9679\n",
      "Epoch 15/100\n",
      "222/222 [==============================] - 1s 4ms/step - loss: 0.2519 - accuracy: 0.9675 - val_loss: 0.2566 - val_accuracy: 0.9674\n",
      "Epoch 16/100\n",
      "222/222 [==============================] - 1s 4ms/step - loss: 0.2474 - accuracy: 0.9682 - val_loss: 0.2520 - val_accuracy: 0.9662\n",
      "Epoch 17/100\n",
      "222/222 [==============================] - 1s 5ms/step - loss: 0.2437 - accuracy: 0.9692 - val_loss: 0.2478 - val_accuracy: 0.9662\n",
      "Epoch 18/100\n",
      "222/222 [==============================] - 1s 6ms/step - loss: 0.2409 - accuracy: 0.9679 - val_loss: 0.2422 - val_accuracy: 0.9685\n",
      "Epoch 19/100\n",
      "222/222 [==============================] - 1s 6ms/step - loss: 0.2379 - accuracy: 0.9689 - val_loss: 0.2397 - val_accuracy: 0.9690\n",
      "Epoch 20/100\n",
      "222/222 [==============================] - 2s 8ms/step - loss: 0.2337 - accuracy: 0.9695 - val_loss: 0.2358 - val_accuracy: 0.9685\n",
      "Epoch 21/100\n",
      "222/222 [==============================] - 2s 10ms/step - loss: 0.2328 - accuracy: 0.9693 - val_loss: 0.2348 - val_accuracy: 0.9702\n",
      "Epoch 22/100\n",
      "222/222 [==============================] - 2s 10ms/step - loss: 0.2275 - accuracy: 0.9703 - val_loss: 0.2336 - val_accuracy: 0.9685\n",
      "Epoch 23/100\n",
      "222/222 [==============================] - 1s 6ms/step - loss: 0.2268 - accuracy: 0.9690 - val_loss: 0.2306 - val_accuracy: 0.9707\n",
      "Epoch 24/100\n",
      "222/222 [==============================] - 1s 6ms/step - loss: 0.2253 - accuracy: 0.9697 - val_loss: 0.2275 - val_accuracy: 0.9702\n",
      "Epoch 25/100\n",
      "222/222 [==============================] - 2s 7ms/step - loss: 0.2231 - accuracy: 0.9718 - val_loss: 0.2261 - val_accuracy: 0.9685\n",
      "Epoch 26/100\n",
      "222/222 [==============================] - 1s 6ms/step - loss: 0.2195 - accuracy: 0.9726 - val_loss: 0.2238 - val_accuracy: 0.9713\n",
      "Epoch 27/100\n",
      "222/222 [==============================] - 1s 6ms/step - loss: 0.2193 - accuracy: 0.9700 - val_loss: 0.2210 - val_accuracy: 0.9702\n",
      "Epoch 28/100\n",
      "222/222 [==============================] - 1s 5ms/step - loss: 0.2161 - accuracy: 0.9702 - val_loss: 0.2190 - val_accuracy: 0.9702\n",
      "Epoch 29/100\n",
      "222/222 [==============================] - 1s 6ms/step - loss: 0.2133 - accuracy: 0.9704 - val_loss: 0.2189 - val_accuracy: 0.9702\n",
      "Epoch 30/100\n",
      "222/222 [==============================] - 2s 8ms/step - loss: 0.2127 - accuracy: 0.9721 - val_loss: 0.2163 - val_accuracy: 0.9713\n",
      "Epoch 31/100\n",
      "222/222 [==============================] - 2s 7ms/step - loss: 0.2107 - accuracy: 0.9718 - val_loss: 0.2150 - val_accuracy: 0.9696\n",
      "Epoch 32/100\n",
      "222/222 [==============================] - 2s 8ms/step - loss: 0.2066 - accuracy: 0.9721 - val_loss: 0.2124 - val_accuracy: 0.9707\n",
      "Epoch 33/100\n",
      "222/222 [==============================] - 2s 8ms/step - loss: 0.2048 - accuracy: 0.9723 - val_loss: 0.2109 - val_accuracy: 0.9713\n",
      "Epoch 34/100\n",
      "222/222 [==============================] - 3s 13ms/step - loss: 0.2018 - accuracy: 0.9724 - val_loss: 0.2106 - val_accuracy: 0.9713\n",
      "Epoch 35/100\n",
      "222/222 [==============================] - 2s 11ms/step - loss: 0.2022 - accuracy: 0.9742 - val_loss: 0.2073 - val_accuracy: 0.9713\n",
      "Epoch 36/100\n",
      "222/222 [==============================] - 2s 8ms/step - loss: 0.2013 - accuracy: 0.9738 - val_loss: 0.2077 - val_accuracy: 0.9713\n",
      "Epoch 37/100\n",
      "222/222 [==============================] - 2s 7ms/step - loss: 0.2009 - accuracy: 0.9718 - val_loss: 0.2077 - val_accuracy: 0.9707\n",
      "Epoch 38/100\n",
      "222/222 [==============================] - 2s 7ms/step - loss: 0.1972 - accuracy: 0.9745 - val_loss: 0.2056 - val_accuracy: 0.9707\n",
      "Epoch 39/100\n",
      "222/222 [==============================] - 2s 8ms/step - loss: 0.1961 - accuracy: 0.9737 - val_loss: 0.2042 - val_accuracy: 0.9707\n",
      "Epoch 40/100\n",
      "222/222 [==============================] - 2s 8ms/step - loss: 0.1932 - accuracy: 0.9749 - val_loss: 0.2040 - val_accuracy: 0.9696\n",
      "Epoch 41/100\n",
      "222/222 [==============================] - 2s 8ms/step - loss: 0.1939 - accuracy: 0.9737 - val_loss: 0.1994 - val_accuracy: 0.9713\n",
      "Epoch 42/100\n",
      "222/222 [==============================] - 3s 13ms/step - loss: 0.1951 - accuracy: 0.9726 - val_loss: 0.1994 - val_accuracy: 0.9696\n",
      "Epoch 43/100\n",
      "222/222 [==============================] - 2s 9ms/step - loss: 0.1932 - accuracy: 0.9745 - val_loss: 0.1974 - val_accuracy: 0.9713\n",
      "Epoch 44/100\n",
      "222/222 [==============================] - 2s 9ms/step - loss: 0.1901 - accuracy: 0.9758 - val_loss: 0.1993 - val_accuracy: 0.9719\n",
      "Epoch 45/100\n",
      "222/222 [==============================] - 2s 8ms/step - loss: 0.1901 - accuracy: 0.9741 - val_loss: 0.1968 - val_accuracy: 0.9702\n",
      "Epoch 46/100\n",
      "222/222 [==============================] - 2s 7ms/step - loss: 0.1880 - accuracy: 0.9747 - val_loss: 0.1965 - val_accuracy: 0.9707\n",
      "Epoch 47/100\n",
      "222/222 [==============================] - 2s 7ms/step - loss: 0.1849 - accuracy: 0.9737 - val_loss: 0.1956 - val_accuracy: 0.9713\n",
      "Epoch 48/100\n",
      "222/222 [==============================] - 2s 8ms/step - loss: 0.1858 - accuracy: 0.9748 - val_loss: 0.1935 - val_accuracy: 0.9702\n",
      "Epoch 49/100\n",
      "222/222 [==============================] - 1s 7ms/step - loss: 0.1847 - accuracy: 0.9745 - val_loss: 0.1944 - val_accuracy: 0.9724\n",
      "Epoch 50/100\n",
      "222/222 [==============================] - 2s 10ms/step - loss: 0.1853 - accuracy: 0.9748 - val_loss: 0.1940 - val_accuracy: 0.9696\n",
      "Epoch 51/100\n",
      "222/222 [==============================] - 2s 9ms/step - loss: 0.1832 - accuracy: 0.9765 - val_loss: 0.1932 - val_accuracy: 0.9730\n",
      "Epoch 52/100\n",
      "222/222 [==============================] - 2s 8ms/step - loss: 0.1836 - accuracy: 0.9747 - val_loss: 0.1936 - val_accuracy: 0.9719\n",
      "Epoch 53/100\n",
      "222/222 [==============================] - 1s 7ms/step - loss: 0.1817 - accuracy: 0.9749 - val_loss: 0.1920 - val_accuracy: 0.9724\n",
      "Epoch 54/100\n",
      "222/222 [==============================] - 1s 6ms/step - loss: 0.1812 - accuracy: 0.9752 - val_loss: 0.1922 - val_accuracy: 0.9719\n",
      "Epoch 55/100\n",
      "222/222 [==============================] - 2s 8ms/step - loss: 0.1801 - accuracy: 0.9749 - val_loss: 0.1919 - val_accuracy: 0.9724\n",
      "Epoch 56/100\n",
      "222/222 [==============================] - 3s 14ms/step - loss: 0.1793 - accuracy: 0.9749 - val_loss: 0.1917 - val_accuracy: 0.9707\n",
      "Epoch 57/100\n",
      "222/222 [==============================] - 2s 9ms/step - loss: 0.1779 - accuracy: 0.9762 - val_loss: 0.1893 - val_accuracy: 0.9724\n",
      "Epoch 58/100\n",
      "222/222 [==============================] - 2s 11ms/step - loss: 0.1769 - accuracy: 0.9759 - val_loss: 0.1897 - val_accuracy: 0.9719\n",
      "Epoch 59/100\n",
      "222/222 [==============================] - 4s 17ms/step - loss: 0.1787 - accuracy: 0.9744 - val_loss: 0.1887 - val_accuracy: 0.9719\n",
      "Epoch 60/100\n",
      "222/222 [==============================] - 2s 10ms/step - loss: 0.1780 - accuracy: 0.9747 - val_loss: 0.1879 - val_accuracy: 0.9707\n",
      "Epoch 61/100\n",
      "222/222 [==============================] - 2s 9ms/step - loss: 0.1737 - accuracy: 0.9766 - val_loss: 0.1867 - val_accuracy: 0.9747\n",
      "Epoch 62/100\n",
      "222/222 [==============================] - 2s 10ms/step - loss: 0.1743 - accuracy: 0.9758 - val_loss: 0.1865 - val_accuracy: 0.9730\n",
      "Epoch 63/100\n",
      "222/222 [==============================] - 2s 8ms/step - loss: 0.1752 - accuracy: 0.9756 - val_loss: 0.1853 - val_accuracy: 0.9741\n",
      "Epoch 64/100\n",
      "222/222 [==============================] - 2s 8ms/step - loss: 0.1750 - accuracy: 0.9762 - val_loss: 0.1864 - val_accuracy: 0.9741\n",
      "Epoch 65/100\n",
      "222/222 [==============================] - 2s 8ms/step - loss: 0.1725 - accuracy: 0.9776 - val_loss: 0.1839 - val_accuracy: 0.9741\n",
      "Epoch 66/100\n",
      "222/222 [==============================] - 2s 7ms/step - loss: 0.1725 - accuracy: 0.9773 - val_loss: 0.1833 - val_accuracy: 0.9736\n",
      "Epoch 67/100\n",
      "222/222 [==============================] - 2s 7ms/step - loss: 0.1726 - accuracy: 0.9775 - val_loss: 0.1820 - val_accuracy: 0.9713\n",
      "Epoch 68/100\n",
      "222/222 [==============================] - 1s 6ms/step - loss: 0.1708 - accuracy: 0.9778 - val_loss: 0.1871 - val_accuracy: 0.9719\n",
      "Epoch 69/100\n",
      "222/222 [==============================] - 2s 7ms/step - loss: 0.1710 - accuracy: 0.9773 - val_loss: 0.1826 - val_accuracy: 0.9741\n",
      "Epoch 70/100\n",
      "222/222 [==============================] - 2s 9ms/step - loss: 0.1711 - accuracy: 0.9768 - val_loss: 0.1821 - val_accuracy: 0.9719\n",
      "Epoch 71/100\n",
      "222/222 [==============================] - 2s 9ms/step - loss: 0.1727 - accuracy: 0.9762 - val_loss: 0.1816 - val_accuracy: 0.9741\n",
      "Epoch 72/100\n",
      "222/222 [==============================] - 2s 9ms/step - loss: 0.1696 - accuracy: 0.9768 - val_loss: 0.1822 - val_accuracy: 0.9719\n",
      "Epoch 73/100\n",
      "222/222 [==============================] - 3s 12ms/step - loss: 0.1731 - accuracy: 0.9762 - val_loss: 0.1809 - val_accuracy: 0.9730\n",
      "Epoch 74/100\n",
      "222/222 [==============================] - 4s 17ms/step - loss: 0.1700 - accuracy: 0.9783 - val_loss: 0.1812 - val_accuracy: 0.9730\n",
      "Epoch 75/100\n",
      "222/222 [==============================] - 3s 14ms/step - loss: 0.1704 - accuracy: 0.9766 - val_loss: 0.1814 - val_accuracy: 0.9719\n",
      "Epoch 76/100\n",
      "222/222 [==============================] - 2s 7ms/step - loss: 0.1696 - accuracy: 0.9761 - val_loss: 0.1803 - val_accuracy: 0.9730\n",
      "Epoch 77/100\n",
      "222/222 [==============================] - 2s 8ms/step - loss: 0.1688 - accuracy: 0.9771 - val_loss: 0.1793 - val_accuracy: 0.9736\n",
      "Epoch 78/100\n",
      "222/222 [==============================] - 2s 8ms/step - loss: 0.1681 - accuracy: 0.9782 - val_loss: 0.1772 - val_accuracy: 0.9741\n",
      "Epoch 79/100\n",
      "222/222 [==============================] - 2s 11ms/step - loss: 0.1687 - accuracy: 0.9776 - val_loss: 0.1788 - val_accuracy: 0.9713\n",
      "Epoch 80/100\n",
      "222/222 [==============================] - 3s 13ms/step - loss: 0.1668 - accuracy: 0.9796 - val_loss: 0.1813 - val_accuracy: 0.9730\n",
      "Epoch 81/100\n",
      "222/222 [==============================] - 2s 11ms/step - loss: 0.1687 - accuracy: 0.9773 - val_loss: 0.1796 - val_accuracy: 0.9707\n",
      "Epoch 82/100\n",
      "222/222 [==============================] - 2s 10ms/step - loss: 0.1664 - accuracy: 0.9779 - val_loss: 0.1777 - val_accuracy: 0.9730\n",
      "Epoch 83/100\n",
      "222/222 [==============================] - 2s 9ms/step - loss: 0.1680 - accuracy: 0.9766 - val_loss: 0.1805 - val_accuracy: 0.9707\n",
      "Epoch 84/100\n",
      "222/222 [==============================] - 2s 8ms/step - loss: 0.1670 - accuracy: 0.9775 - val_loss: 0.1786 - val_accuracy: 0.9713\n",
      "Epoch 85/100\n",
      "222/222 [==============================] - 2s 9ms/step - loss: 0.1653 - accuracy: 0.9778 - val_loss: 0.1785 - val_accuracy: 0.9724\n",
      "Epoch 86/100\n",
      "222/222 [==============================] - 2s 8ms/step - loss: 0.1620 - accuracy: 0.9779 - val_loss: 0.1762 - val_accuracy: 0.9730\n",
      "Epoch 87/100\n",
      "222/222 [==============================] - 1s 7ms/step - loss: 0.1648 - accuracy: 0.9768 - val_loss: 0.1761 - val_accuracy: 0.9736\n",
      "Epoch 88/100\n",
      "222/222 [==============================] - 1s 6ms/step - loss: 0.1648 - accuracy: 0.9773 - val_loss: 0.1794 - val_accuracy: 0.9713\n",
      "Epoch 89/100\n",
      "222/222 [==============================] - 1s 6ms/step - loss: 0.1628 - accuracy: 0.9787 - val_loss: 0.1754 - val_accuracy: 0.9747\n",
      "Epoch 90/100\n",
      "222/222 [==============================] - 1s 6ms/step - loss: 0.1628 - accuracy: 0.9782 - val_loss: 0.1766 - val_accuracy: 0.9736\n",
      "Epoch 91/100\n",
      "222/222 [==============================] - 1s 6ms/step - loss: 0.1637 - accuracy: 0.9779 - val_loss: 0.1774 - val_accuracy: 0.9730\n",
      "Epoch 92/100\n",
      "222/222 [==============================] - 1s 6ms/step - loss: 0.1641 - accuracy: 0.9771 - val_loss: 0.1740 - val_accuracy: 0.9724\n",
      "Epoch 93/100\n",
      "222/222 [==============================] - 2s 7ms/step - loss: 0.1627 - accuracy: 0.9786 - val_loss: 0.1746 - val_accuracy: 0.9741\n",
      "Epoch 94/100\n",
      "222/222 [==============================] - 2s 7ms/step - loss: 0.1630 - accuracy: 0.9787 - val_loss: 0.1756 - val_accuracy: 0.9741\n",
      "Epoch 95/100\n",
      "222/222 [==============================] - 2s 7ms/step - loss: 0.1629 - accuracy: 0.9793 - val_loss: 0.1726 - val_accuracy: 0.9747\n",
      "Epoch 96/100\n",
      "222/222 [==============================] - 2s 7ms/step - loss: 0.1624 - accuracy: 0.9802 - val_loss: 0.1740 - val_accuracy: 0.9736\n",
      "Epoch 97/100\n",
      "222/222 [==============================] - 2s 7ms/step - loss: 0.1632 - accuracy: 0.9780 - val_loss: 0.1743 - val_accuracy: 0.9736\n",
      "Epoch 98/100\n",
      "222/222 [==============================] - 2s 7ms/step - loss: 0.1638 - accuracy: 0.9787 - val_loss: 0.1726 - val_accuracy: 0.9747\n",
      "Epoch 99/100\n",
      "222/222 [==============================] - 1s 6ms/step - loss: 0.1617 - accuracy: 0.9809 - val_loss: 0.1731 - val_accuracy: 0.9747\n",
      "Epoch 100/100\n",
      "222/222 [==============================] - 1s 6ms/step - loss: 0.1611 - accuracy: 0.9779 - val_loss: 0.1722 - val_accuracy: 0.9730\n"
     ]
    }
   ],
   "source": [
    "es = callbacks.EarlyStopping(\n",
    "    monitor='val_loss',\n",
    "    patience=50,\n",
    "    verbose=1,\n",
    "    restore_best_weights=True\n",
    ")\n",
    "\n",
    "history = model.fit(\n",
    "    x=X_train, \n",
    "    y=y_train, \n",
    "    epochs=100, \n",
    "    verbose=1,\n",
    "    callbacks=[es],\n",
    "    validation_split=0.2)"
   ]
  },
  {
   "cell_type": "markdown",
   "id": "704a8d31-3b90-4a63-9f6f-0302f2333f91",
   "metadata": {},
   "source": [
    "<a name=\"4-3\"></a>\n",
    "### Evaluasi model LSTM"
   ]
  },
  {
   "cell_type": "code",
   "execution_count": 343,
   "id": "8fa12eb1-288f-4430-bac0-6abafb05f295",
   "metadata": {},
   "outputs": [
    {
     "name": "stdout",
     "output_type": "stream",
     "text": [
      "70/70 [==============================] - 0s 2ms/step\n",
      "Accuracy: 0.9770373705538046\n"
     ]
    }
   ],
   "source": [
    "# Konversi probabilitas ke label kelas\n",
    "y_pred= model.predict(X_test)\n",
    "y_pred_label = np.argmax(y_pred, axis=1) \n",
    "\n",
    "# Evaluasi\n",
    "accuracy = accuracy_score(y_test, y_pred_label)\n",
    "print(\"Accuracy:\", accuracy)"
   ]
  },
  {
   "cell_type": "markdown",
   "id": "608b7a53-21c7-43ca-942b-e8fc2b1fc283",
   "metadata": {},
   "source": [
    "<a name=\"4-4\"></a>\n",
    "### Visualisasi Hasil "
   ]
  },
  {
   "cell_type": "code",
   "execution_count": 341,
   "id": "10e760cc-2540-4ff7-968a-f34e3de2e905",
   "metadata": {},
   "outputs": [
    {
     "name": "stdout",
     "output_type": "stream",
     "text": [
      "\n",
      "\n"
     ]
    },
    {
     "data": {
      "image/png": "[encoded data removed]",
      "text/plain": [
       "<Figure size 1000x500 with 2 Axes>"
      ]
     },
     "metadata": {},
     "output_type": "display_data"
    }
   ],
   "source": [
    "plt.figure(figsize=(10,5))\n",
    "plt.subplot(1,2,1)\n",
    "plt.plot(history.history['accuracy'])\n",
    "plt.plot(history.history['val_accuracy'])\n",
    "plt.title('Model Accuracy')\n",
    "plt.xlabel('Epoch')\n",
    "plt.ylabel('Accuracy')\n",
    "plt.legend(['Training', 'Validation'])\n",
    "\n",
    "print('\\n')\n",
    "plt.subplot(1,2,2)\n",
    "plt.plot(history.history['loss'])\n",
    "plt.plot(history.history['val_loss'])\n",
    "plt.title('Model Loss')\n",
    "plt.xlabel('Epoch')\n",
    "plt.ylabel('Loss')\n",
    "plt.legend(['Training', 'Validation'])\n",
    "plt.show()\n",
    "\n",
    "plt.show()"
   ]
  },
  {
   "cell_type": "code",
   "execution_count": null,
   "id": "a1013e74-64b1-4e9e-902a-ddd020489a2a",
   "metadata": {},
   "outputs": [],
   "source": []
  }
 ],
 "metadata": {
  "kernelspec": {
   "display_name": "Python 3 (ipykernel)",
   "language": "python",
   "name": "python3"
  },
  "language_info": {
   "codemirror_mode": {
    "name": "ipython",
    "version": 3
   },
   "file_extension": ".py",
   "mimetype": "text/x-python",
   "name": "python",
   "nbconvert_exporter": "python",
   "pygments_lexer": "ipython3",
   "version": "3.10.7"
  }
 },
 "nbformat": 4,
 "nbformat_minor": 5
}
